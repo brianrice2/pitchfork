{
 "cells": [
  {
   "cell_type": "markdown",
   "id": "94698224",
   "metadata": {},
   "source": [
    "# Model Development"
   ]
  },
  {
   "cell_type": "markdown",
   "id": "3146fae4",
   "metadata": {},
   "source": [
    "## Setup"
   ]
  },
  {
   "cell_type": "code",
   "execution_count": 1,
   "id": "73342733",
   "metadata": {},
   "outputs": [],
   "source": [
    "import math\n",
    "import os\n",
    "import sys\n",
    "\n",
    "import pandas as pd\n",
    "from sklearn.compose import ColumnTransformer\n",
    "from sklearn.ensemble import GradientBoostingRegressor, RandomForestRegressor\n",
    "from sklearn.linear_model import LassoCV, LinearRegression\n",
    "from sklearn.metrics import mean_squared_error\n",
    "from sklearn.model_selection import train_test_split\n",
    "from sklearn.neighbors import KNeighborsRegressor\n",
    "from sklearn.pipeline import Pipeline\n",
    "from sklearn.preprocessing import StandardScaler, OneHotEncoder"
   ]
  },
  {
   "cell_type": "code",
   "execution_count": 2,
   "outputs": [
    {
     "name": "stdout",
     "output_type": "stream",
     "text": [
      "/Users/brianrice/dev/2021-msia423-rice-brian-project/notebooks/develop\n",
      "/Users/brianrice/dev/2021-msia423-rice-brian-project/venv/bin/python\n"
     ]
    }
   ],
   "source": [
    "print(os.getcwd())\n",
    "print(sys.executable)"
   ],
   "metadata": {
    "collapsed": false,
    "pycharm": {
     "name": "#%%\n"
    }
   }
  },
  {
   "cell_type": "code",
   "execution_count": 3,
   "outputs": [],
   "source": [
    "S3_BUCKET = \"s3://2021-msia423-rice-brian\"\n",
    "S3_CLEANED_PATH = \"cleaned/P4KxSpotify.csv\"\n",
    "IN_PATH = os.path.join(S3_BUCKET, S3_CLEANED_PATH)\n",
    "\n",
    "RANDOM_SEED = 0"
   ],
   "metadata": {
    "collapsed": false,
    "pycharm": {
     "name": "#%%\n"
    }
   }
  },
  {
   "cell_type": "code",
   "execution_count": 4,
   "outputs": [
    {
     "data": {
      "text/plain": "           artist                              album        reviewauthor  \\\n0        Studio 1                           Studio 1      Andy Battaglia   \n1      John Fahey  The Great Santa Barbara Oil Slick     Mark Richardson   \n2  Reigning Sound                    Too Much Guitar  Stephen M. Deusner   \n3  The Red Thread                     After the Last        Chris Dahlen   \n4      Mac Miller                           Swimming      Evan Rytlewski   \n\n   score  releaseyear  reviewdate   recordlabel         genre  danceability  \\\n0    8.5       2009.0  2009-02-18        Studio    Electronic      0.511917   \n1    8.2       2005.0  2005-02-13         Water  Folk/Country      0.369765   \n2    8.3       2004.0  2004-08-19    In the Red    Electronic      0.253943   \n3    7.3       2003.0  2003-07-17        Badman          Rock      0.425400   \n4    7.5       2018.0  2018-08-03  Warner Bros.           Rap      0.624846   \n\n     energy       key   loudness  speechiness  acousticness  instrumentalness  \\\n0  0.499667  5.250000  -5.626583     0.031983      0.724917          0.024493   \n1  0.325412  4.470588 -19.153824     0.148624      0.647053          0.559133   \n2  0.912857  4.428571  -1.089500     0.055500      0.000253          0.751214   \n3  0.433474  5.700000 -12.871000     0.028260      0.310325          0.224137   \n4  0.438154  4.153846  -9.456077     0.170246      0.652462          0.012819   \n\n   liveness   valence       tempo  \n0  0.165367  0.555083  101.395167  \n1  0.527782  0.179465  107.622647  \n2  0.199071  0.552786  133.895500  \n3  0.125150  0.451400  104.354200  \n4  0.121131  0.281138  122.121308  ",
      "text/html": "<div>\n<style scoped>\n    .dataframe tbody tr th:only-of-type {\n        vertical-align: middle;\n    }\n\n    .dataframe tbody tr th {\n        vertical-align: top;\n    }\n\n    .dataframe thead th {\n        text-align: right;\n    }\n</style>\n<table border=\"1\" class=\"dataframe\">\n  <thead>\n    <tr style=\"text-align: right;\">\n      <th></th>\n      <th>artist</th>\n      <th>album</th>\n      <th>reviewauthor</th>\n      <th>score</th>\n      <th>releaseyear</th>\n      <th>reviewdate</th>\n      <th>recordlabel</th>\n      <th>genre</th>\n      <th>danceability</th>\n      <th>energy</th>\n      <th>key</th>\n      <th>loudness</th>\n      <th>speechiness</th>\n      <th>acousticness</th>\n      <th>instrumentalness</th>\n      <th>liveness</th>\n      <th>valence</th>\n      <th>tempo</th>\n    </tr>\n  </thead>\n  <tbody>\n    <tr>\n      <th>0</th>\n      <td>Studio 1</td>\n      <td>Studio 1</td>\n      <td>Andy Battaglia</td>\n      <td>8.5</td>\n      <td>2009.0</td>\n      <td>2009-02-18</td>\n      <td>Studio</td>\n      <td>Electronic</td>\n      <td>0.511917</td>\n      <td>0.499667</td>\n      <td>5.250000</td>\n      <td>-5.626583</td>\n      <td>0.031983</td>\n      <td>0.724917</td>\n      <td>0.024493</td>\n      <td>0.165367</td>\n      <td>0.555083</td>\n      <td>101.395167</td>\n    </tr>\n    <tr>\n      <th>1</th>\n      <td>John Fahey</td>\n      <td>The Great Santa Barbara Oil Slick</td>\n      <td>Mark Richardson</td>\n      <td>8.2</td>\n      <td>2005.0</td>\n      <td>2005-02-13</td>\n      <td>Water</td>\n      <td>Folk/Country</td>\n      <td>0.369765</td>\n      <td>0.325412</td>\n      <td>4.470588</td>\n      <td>-19.153824</td>\n      <td>0.148624</td>\n      <td>0.647053</td>\n      <td>0.559133</td>\n      <td>0.527782</td>\n      <td>0.179465</td>\n      <td>107.622647</td>\n    </tr>\n    <tr>\n      <th>2</th>\n      <td>Reigning Sound</td>\n      <td>Too Much Guitar</td>\n      <td>Stephen M. Deusner</td>\n      <td>8.3</td>\n      <td>2004.0</td>\n      <td>2004-08-19</td>\n      <td>In the Red</td>\n      <td>Electronic</td>\n      <td>0.253943</td>\n      <td>0.912857</td>\n      <td>4.428571</td>\n      <td>-1.089500</td>\n      <td>0.055500</td>\n      <td>0.000253</td>\n      <td>0.751214</td>\n      <td>0.199071</td>\n      <td>0.552786</td>\n      <td>133.895500</td>\n    </tr>\n    <tr>\n      <th>3</th>\n      <td>The Red Thread</td>\n      <td>After the Last</td>\n      <td>Chris Dahlen</td>\n      <td>7.3</td>\n      <td>2003.0</td>\n      <td>2003-07-17</td>\n      <td>Badman</td>\n      <td>Rock</td>\n      <td>0.425400</td>\n      <td>0.433474</td>\n      <td>5.700000</td>\n      <td>-12.871000</td>\n      <td>0.028260</td>\n      <td>0.310325</td>\n      <td>0.224137</td>\n      <td>0.125150</td>\n      <td>0.451400</td>\n      <td>104.354200</td>\n    </tr>\n    <tr>\n      <th>4</th>\n      <td>Mac Miller</td>\n      <td>Swimming</td>\n      <td>Evan Rytlewski</td>\n      <td>7.5</td>\n      <td>2018.0</td>\n      <td>2018-08-03</td>\n      <td>Warner Bros.</td>\n      <td>Rap</td>\n      <td>0.624846</td>\n      <td>0.438154</td>\n      <td>4.153846</td>\n      <td>-9.456077</td>\n      <td>0.170246</td>\n      <td>0.652462</td>\n      <td>0.012819</td>\n      <td>0.121131</td>\n      <td>0.281138</td>\n      <td>122.121308</td>\n    </tr>\n  </tbody>\n</table>\n</div>"
     },
     "execution_count": 4,
     "metadata": {},
     "output_type": "execute_result"
    }
   ],
   "source": [
    "df = pd.read_csv(IN_PATH)\n",
    "df.head()"
   ],
   "metadata": {
    "collapsed": false,
    "pycharm": {
     "name": "#%%\n"
    }
   }
  },
  {
   "cell_type": "markdown",
   "source": [
    "## Data preparation"
   ],
   "metadata": {
    "collapsed": false,
    "pycharm": {
     "name": "#%% md\n"
    }
   }
  },
  {
   "cell_type": "code",
   "execution_count": 5,
   "outputs": [],
   "source": [
    "X = df.drop(columns=[\"score\"])\n",
    "y = df[\"score\"]\n",
    "\n",
    "# 60/20/20 split for train/validation/test datasets\n",
    "X_train, X_test, y_train, y_test = train_test_split(X, y, test_size=0.2, random_state=RANDOM_SEED)\n",
    "X_train, X_val, y_train, y_val = train_test_split(X_train, y_train, test_size=0.25, random_state=RANDOM_SEED)"
   ],
   "metadata": {
    "collapsed": false,
    "pycharm": {
     "name": "#%%\n"
    }
   }
  },
  {
   "cell_type": "markdown",
   "source": [
    "#### Define input transformations and normalizations\n",
    "\n",
    "Including artist name, album name, and album reviewer name is both intractable and poor from a business standpoint. Artists who use our application have no control over their reviewer, and incorporating the similarity of the artist/album name to existing entries becomes very complex very quickly. For these reasons, they're not included as predictors."
   ],
   "metadata": {
    "collapsed": false,
    "pycharm": {
     "name": "#%% md\n"
    }
   }
  },
  {
   "cell_type": "code",
   "execution_count": 6,
   "outputs": [],
   "source": [
    "numeric_features = [\n",
    "    \"releaseyear\", \"danceability\", \"key\", \"loudness\", \"speechiness\",\n",
    "    \"acousticness\", \"instrumentalness\", \"liveness\", \"valence\", \"tempo\"\n",
    "]\n",
    "numeric_transformer = StandardScaler()\n",
    "\n",
    "categorical_features = [\"genre\"]\n",
    "categorical_transformer = OneHotEncoder(handle_unknown=\"ignore\")"
   ],
   "metadata": {
    "collapsed": false,
    "pycharm": {
     "name": "#%%\n"
    }
   }
  },
  {
   "cell_type": "code",
   "execution_count": 7,
   "outputs": [],
   "source": [
    "preprocessor = ColumnTransformer(transformers=[\n",
    "    (\"numeric\", numeric_transformer, numeric_features),\n",
    "    (\"categorical\", categorical_transformer, categorical_features)\n",
    "])"
   ],
   "metadata": {
    "collapsed": false,
    "pycharm": {
     "name": "#%%\n"
    }
   }
  },
  {
   "cell_type": "markdown",
   "source": [
    "## Linear regression"
   ],
   "metadata": {
    "collapsed": false,
    "pycharm": {
     "name": "#%% md\n"
    }
   }
  },
  {
   "cell_type": "code",
   "execution_count": 8,
   "outputs": [],
   "source": [
    "def evaluate_performance(pipeline, X_train, y_train, X_val, y_val):\n",
    "    mse_train = mean_squared_error(pipeline.predict(X_train), y_train)\n",
    "    rmse_train = math.sqrt(mse_train)\n",
    "    print(\"Training RMSE:\\t\\t%.4f\" % rmse_train)\n",
    "\n",
    "    mse_val = mean_squared_error(pipeline.predict(X_val), y_val)\n",
    "    rmse_val = math.sqrt(mse_val)\n",
    "    print(\"Validation RMSE:\\t%.4f\" % rmse_val)\n",
    "\n",
    "    print(\"R-squared value:\\t%.4f\" % pipeline.score(X_train, y_train))"
   ],
   "metadata": {
    "collapsed": false,
    "pycharm": {
     "name": "#%%\n"
    }
   }
  },
  {
   "cell_type": "code",
   "execution_count": 9,
   "outputs": [],
   "source": [
    "pipe = Pipeline(steps=[\n",
    "    (\"preprocessor\", preprocessor),\n",
    "    (\"predictor\", LinearRegression())\n",
    "])"
   ],
   "metadata": {
    "collapsed": false,
    "pycharm": {
     "name": "#%%\n"
    }
   }
  },
  {
   "cell_type": "code",
   "execution_count": 10,
   "outputs": [
    {
     "data": {
      "text/plain": "Pipeline(steps=[('preprocessor',\n                 ColumnTransformer(transformers=[('numeric', StandardScaler(),\n                                                  ['releaseyear',\n                                                   'danceability', 'key',\n                                                   'loudness', 'speechiness',\n                                                   'acousticness',\n                                                   'instrumentalness',\n                                                   'liveness', 'valence',\n                                                   'tempo']),\n                                                 ('categorical',\n                                                  OneHotEncoder(handle_unknown='ignore'),\n                                                  ['genre'])])),\n                ('predictor', LinearRegression())])"
     },
     "execution_count": 10,
     "metadata": {},
     "output_type": "execute_result"
    }
   ],
   "source": [
    "pipe.fit(X_train, y_train)"
   ],
   "metadata": {
    "collapsed": false,
    "pycharm": {
     "name": "#%%\n"
    }
   }
  },
  {
   "cell_type": "code",
   "execution_count": 11,
   "outputs": [
    {
     "name": "stdout",
     "output_type": "stream",
     "text": [
      "Training RMSE:\t\t1.2140\n",
      "Validation RMSE:\t1.2580\n",
      "R-squared value:\t0.0379\n"
     ]
    }
   ],
   "source": [
    "evaluate_performance(pipe, X_train, y_train, X_val, y_val)"
   ],
   "metadata": {
    "collapsed": false,
    "pycharm": {
     "name": "#%%\n"
    }
   }
  },
  {
   "cell_type": "markdown",
   "source": [
    "## Lasso regression"
   ],
   "metadata": {
    "collapsed": false,
    "pycharm": {
     "name": "#%% md\n"
    }
   }
  },
  {
   "cell_type": "code",
   "execution_count": 12,
   "outputs": [
    {
     "data": {
      "text/plain": "Pipeline(steps=[('preprocessor',\n                 ColumnTransformer(transformers=[('numeric', StandardScaler(),\n                                                  ['releaseyear',\n                                                   'danceability', 'key',\n                                                   'loudness', 'speechiness',\n                                                   'acousticness',\n                                                   'instrumentalness',\n                                                   'liveness', 'valence',\n                                                   'tempo']),\n                                                 ('categorical',\n                                                  OneHotEncoder(handle_unknown='ignore'),\n                                                  ['genre'])])),\n                ('predictor', LassoCV(cv=10, random_state=0))])"
     },
     "execution_count": 12,
     "metadata": {},
     "output_type": "execute_result"
    }
   ],
   "source": [
    "# Use CV to determine best regularization parameter, even though it\n",
    "# is a bit redundant to use CV with a train/val/test split strategy\n",
    "pipe = Pipeline(steps=[\n",
    "    (\"preprocessor\", preprocessor),\n",
    "    (\"predictor\", LassoCV(cv=10, random_state=RANDOM_SEED))\n",
    "])\n",
    "pipe.fit(X_train, y_train)"
   ],
   "metadata": {
    "collapsed": false,
    "pycharm": {
     "name": "#%%\n"
    }
   }
  },
  {
   "cell_type": "code",
   "execution_count": 13,
   "outputs": [
    {
     "name": "stdout",
     "output_type": "stream",
     "text": [
      "Training RMSE:\t\t1.2141\n",
      "Validation RMSE:\t1.2581\n",
      "R-squared value:\t0.0378\n"
     ]
    }
   ],
   "source": [
    "evaluate_performance(pipe, X_train, y_train, X_val, y_val)"
   ],
   "metadata": {
    "collapsed": false,
    "pycharm": {
     "name": "#%%\n"
    }
   }
  },
  {
   "cell_type": "code",
   "execution_count": 14,
   "outputs": [
    {
     "data": {
      "text/plain": "releaseyear        -0.122867\ndanceability       -0.061235\nkey                 0.011892\nloudness           -0.073636\nspeechiness         0.043457\nacousticness        0.001730\ninstrumentalness    0.082565\nliveness            0.006299\nvalence             0.026045\ntempo              -0.004686\nx0_Electronic      -0.190892\nx0_Experimental     0.170154\nx0_Folk/Country     0.114870\nx0_Global           0.245719\nx0_Jazz             0.326637\nx0_Metal           -0.000000\nx0_Missing         -0.263923\nx0_Pop/R&B         -0.009791\nx0_Rap              0.000000\nx0_Rock            -0.115855\nx0_none             0.000000\ndtype: float64"
     },
     "execution_count": 14,
     "metadata": {},
     "output_type": "execute_result"
    }
   ],
   "source": [
    "# Model coefficients\n",
    "best_lasso = pipe[\"predictor\"]\n",
    "pd.Series(\n",
    "    data=best_lasso.coef_,\n",
    "    index=numeric_features + list(pipe[\"preprocessor\"].transformers_[1][1].get_feature_names())\n",
    ")"
   ],
   "metadata": {
    "collapsed": false,
    "pycharm": {
     "name": "#%%\n"
    }
   }
  },
  {
   "cell_type": "markdown",
   "source": [
    "## Nearest neighbors"
   ],
   "metadata": {
    "collapsed": false
   }
  },
  {
   "cell_type": "code",
   "execution_count": 15,
   "outputs": [
    {
     "name": "stdout",
     "output_type": "stream",
     "text": [
      "KNN with K = 4 ----------------\n",
      "Training RMSE:\t\t1.0124\n",
      "Validation RMSE:\t1.3583\n",
      "R-squared value:\t0.3309\n",
      "KNN with K = 6 ----------------\n",
      "Training RMSE:\t\t1.0701\n",
      "Validation RMSE:\t1.3181\n",
      "R-squared value:\t0.2525\n",
      "KNN with K = 8 ----------------\n",
      "Training RMSE:\t\t1.0987\n",
      "Validation RMSE:\t1.2928\n",
      "R-squared value:\t0.2120\n",
      "KNN with K = 10 ----------------\n",
      "Training RMSE:\t\t1.1145\n",
      "Validation RMSE:\t1.2760\n",
      "R-squared value:\t0.1891\n",
      "KNN with K = 12 ----------------\n",
      "Training RMSE:\t\t1.1275\n",
      "Validation RMSE:\t1.2670\n",
      "R-squared value:\t0.1701\n",
      "KNN with K = 14 ----------------\n",
      "Training RMSE:\t\t1.1394\n",
      "Validation RMSE:\t1.2549\n",
      "R-squared value:\t0.1525\n",
      "KNN with K = 16 ----------------\n",
      "Training RMSE:\t\t1.1450\n",
      "Validation RMSE:\t1.2557\n",
      "R-squared value:\t0.1441\n",
      "KNN with K = 18 ----------------\n",
      "Training RMSE:\t\t1.1498\n",
      "Validation RMSE:\t1.2535\n",
      "R-squared value:\t0.1370\n",
      "KNN with K = 20 ----------------\n",
      "Training RMSE:\t\t1.1545\n",
      "Validation RMSE:\t1.2516\n",
      "R-squared value:\t0.1299\n"
     ]
    }
   ],
   "source": [
    "for neighbors in range(4, 21, 2):\n",
    "    print(\"KNN with K =\", neighbors, \"----------------\")\n",
    "    pipe = Pipeline(steps=[\n",
    "        (\"preprocessor\", preprocessor),\n",
    "        (\"predictor\", KNeighborsRegressor(n_neighbors=neighbors))\n",
    "    ])\n",
    "\n",
    "    pipe.fit(X_train, y_train)\n",
    "    evaluate_performance(pipe, X_train, y_train, X_val, y_val)"
   ],
   "metadata": {
    "collapsed": false,
    "pycharm": {
     "name": "#%%\n"
    }
   }
  },
  {
   "cell_type": "code",
   "execution_count": 16,
   "outputs": [
    {
     "data": {
      "text/plain": "   prediction  label\n0       6.580    6.3\n1       7.130    7.2\n2       7.055    7.4\n3       7.150    7.3\n4       7.050    8.3\n5       6.880    6.8\n6       6.485    6.6\n7       6.230    7.7\n8       6.480    7.1\n9       7.390    8.8",
      "text/html": "<div>\n<style scoped>\n    .dataframe tbody tr th:only-of-type {\n        vertical-align: middle;\n    }\n\n    .dataframe tbody tr th {\n        vertical-align: top;\n    }\n\n    .dataframe thead th {\n        text-align: right;\n    }\n</style>\n<table border=\"1\" class=\"dataframe\">\n  <thead>\n    <tr style=\"text-align: right;\">\n      <th></th>\n      <th>prediction</th>\n      <th>label</th>\n    </tr>\n  </thead>\n  <tbody>\n    <tr>\n      <th>0</th>\n      <td>6.580</td>\n      <td>6.3</td>\n    </tr>\n    <tr>\n      <th>1</th>\n      <td>7.130</td>\n      <td>7.2</td>\n    </tr>\n    <tr>\n      <th>2</th>\n      <td>7.055</td>\n      <td>7.4</td>\n    </tr>\n    <tr>\n      <th>3</th>\n      <td>7.150</td>\n      <td>7.3</td>\n    </tr>\n    <tr>\n      <th>4</th>\n      <td>7.050</td>\n      <td>8.3</td>\n    </tr>\n    <tr>\n      <th>5</th>\n      <td>6.880</td>\n      <td>6.8</td>\n    </tr>\n    <tr>\n      <th>6</th>\n      <td>6.485</td>\n      <td>6.6</td>\n    </tr>\n    <tr>\n      <th>7</th>\n      <td>6.230</td>\n      <td>7.7</td>\n    </tr>\n    <tr>\n      <th>8</th>\n      <td>6.480</td>\n      <td>7.1</td>\n    </tr>\n    <tr>\n      <th>9</th>\n      <td>7.390</td>\n      <td>8.8</td>\n    </tr>\n  </tbody>\n</table>\n</div>"
     },
     "execution_count": 16,
     "metadata": {},
     "output_type": "execute_result"
    }
   ],
   "source": [
    "pd.DataFrame(zip(pipe.predict(X_train), y_train), columns=[\"prediction\", \"label\"]).head(10)"
   ],
   "metadata": {
    "collapsed": false,
    "pycharm": {
     "name": "#%%\n"
    }
   }
  },
  {
   "cell_type": "markdown",
   "source": [
    "## Random forest"
   ],
   "metadata": {
    "collapsed": false
   }
  },
  {
   "cell_type": "code",
   "execution_count": 17,
   "outputs": [
    {
     "name": "stdout",
     "output_type": "stream",
     "text": [
      "Training RMSE:\t\t1.1814\n",
      "Validation RMSE:\t1.2307\n",
      "R-squared value:\t0.0889\n"
     ]
    }
   ],
   "source": [
    "pipe = Pipeline(steps=[\n",
    "    (\"preprocessor\", preprocessor),\n",
    "    (\"predictor\", RandomForestRegressor(\n",
    "        n_estimators=200,\n",
    "        min_samples_leaf=2,\n",
    "        ccp_alpha=0.005,\n",
    "        random_state=RANDOM_SEED,\n",
    "        verbose=0,\n",
    "        n_jobs=4\n",
    "        )\n",
    "    )\n",
    "])\n",
    "\n",
    "pipe.fit(X_train, y_train)\n",
    "evaluate_performance(pipe, X_train, y_train, X_val, y_val)"
   ],
   "metadata": {
    "collapsed": false,
    "pycharm": {
     "name": "#%%\n"
    }
   }
  },
  {
   "cell_type": "code",
   "execution_count": 18,
   "outputs": [
    {
     "data": {
      "text/plain": "releaseyear         0.637025\ndanceability        0.053997\nkey                 0.015017\nloudness            0.100343\nspeechiness         0.014362\nacousticness        0.029007\ninstrumentalness    0.068490\nliveness            0.011938\nvalence             0.014277\ntempo               0.013369\nx0_Electronic       0.000690\nx0_Experimental     0.035943\nx0_Folk/Country     0.000160\nx0_Global           0.000000\nx0_Jazz             0.001779\nx0_Metal            0.000935\nx0_Missing          0.000584\nx0_Pop/R&B          0.000218\nx0_Rap              0.000402\nx0_Rock             0.001466\nx0_none             0.000000\ndtype: float64"
     },
     "execution_count": 18,
     "metadata": {},
     "output_type": "execute_result"
    }
   ],
   "source": [
    "# Feature importance measures\n",
    "pd.Series(\n",
    "    data=pipe[\"predictor\"].feature_importances_,\n",
    "    index=numeric_features + list(pipe[\"preprocessor\"].transformers_[1][1].get_feature_names())\n",
    ")"
   ],
   "metadata": {
    "collapsed": false,
    "pycharm": {
     "name": "#%%\n"
    }
   }
  },
  {
   "cell_type": "markdown",
   "source": [
    "## Gradient-boosted tree"
   ],
   "metadata": {
    "collapsed": false,
    "pycharm": {
     "name": "#%% md\n"
    }
   }
  },
  {
   "cell_type": "code",
   "execution_count": 22,
   "outputs": [
    {
     "name": "stdout",
     "output_type": "stream",
     "text": [
      "Training RMSE:\t\t1.1775\n",
      "Validation RMSE:\t1.2285\n",
      "R-squared value:\t0.0948\n"
     ]
    }
   ],
   "source": [
    "pipe = Pipeline(steps=[\n",
    "    (\"preprocessor\", preprocessor),\n",
    "    (\"predictor\", GradientBoostingRegressor(\n",
    "        learning_rate=0.075,\n",
    "        ccp_alpha=0.001,\n",
    "        random_state=RANDOM_SEED\n",
    "    ))\n",
    "])\n",
    "\n",
    "pipe.fit(X_train, y_train)\n",
    "evaluate_performance(pipe, X_train, y_train, X_val, y_val)"
   ],
   "metadata": {
    "collapsed": false,
    "pycharm": {
     "name": "#%%\n"
    }
   }
  },
  {
   "cell_type": "code",
   "execution_count": 23,
   "outputs": [
    {
     "data": {
      "text/plain": "releaseyear         0.578512\ndanceability        0.071036\nkey                 0.021205\nloudness            0.099546\nspeechiness         0.024585\nacousticness        0.013766\ninstrumentalness    0.062735\nliveness            0.010869\nvalence             0.012608\ntempo               0.008746\nx0_Electronic       0.001881\nx0_Experimental     0.055162\nx0_Folk/Country     0.008347\nx0_Global           0.002102\nx0_Jazz             0.014337\nx0_Metal            0.000000\nx0_Missing          0.007167\nx0_Pop/R&B          0.000000\nx0_Rap              0.007397\nx0_Rock             0.000000\nx0_none             0.000000\ndtype: float64"
     },
     "execution_count": 23,
     "metadata": {},
     "output_type": "execute_result"
    }
   ],
   "source": [
    "# Feature importance measures\n",
    "pd.Series(\n",
    "    data=pipe[\"predictor\"].feature_importances_,\n",
    "    index=numeric_features + list(pipe[\"preprocessor\"].transformers_[1][1].get_feature_names())\n",
    ")"
   ],
   "metadata": {
    "collapsed": false,
    "pycharm": {
     "name": "#%%\n"
    }
   }
  },
  {
   "cell_type": "code",
   "execution_count": null,
   "outputs": [],
   "source": [],
   "metadata": {
    "collapsed": false,
    "pycharm": {
     "name": "#%%\n"
    }
   }
  }
 ],
 "metadata": {
  "kernelspec": {
   "display_name": "venv",
   "language": "python",
   "name": "venv"
  },
  "language_info": {
   "codemirror_mode": {
    "name": "ipython",
    "version": 3
   },
   "file_extension": ".py",
   "mimetype": "text/x-python",
   "name": "python",
   "nbconvert_exporter": "python",
   "pygments_lexer": "ipython3",
   "version": "3.8.2"
  }
 },
 "nbformat": 4,
 "nbformat_minor": 5
}