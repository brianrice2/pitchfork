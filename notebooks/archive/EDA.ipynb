{
 "cells": [
  {
   "cell_type": "markdown",
   "id": "a5a74981-0755-4ae1-aae9-1f101642ea92",
   "metadata": {},
   "source": [
    "# Exploratory Data Analysis\n",
    "\n",
    "## Setup"
   ]
  },
  {
   "cell_type": "code",
   "execution_count": 1,
   "id": "a7e76119-3e52-4bb2-ba4e-e2a0f76643b1",
   "metadata": {},
   "outputs": [],
   "source": [
    "import os\n",
    "import sys\n",
    "\n",
    "import matplotlib.pyplot as plt\n",
    "import numpy as np\n",
    "import pandas as pd\n",
    "import seaborn as sns"
   ]
  },
  {
   "cell_type": "code",
   "execution_count": 2,
   "id": "e2a4d5b6-dd86-48e0-b277-d51e14d9aff3",
   "metadata": {},
   "outputs": [
    {
     "data": {
      "text/plain": "'/Users/brianrice/dev/2021-msia423-rice-brian-project/notebooks/develop'"
     },
     "execution_count": 2,
     "metadata": {},
     "output_type": "execute_result"
    }
   ],
   "source": [
    "os.getcwd()"
   ]
  },
  {
   "cell_type": "code",
   "execution_count": 3,
   "id": "066c7cdb-d454-4743-b6dc-0615fd19725a",
   "metadata": {},
   "outputs": [],
   "source": [
    "S3_BUCKET = \"s3://2021-msia423-rice-brian\"\n",
    "S3_RAW_PATH = \"raw/P4KxSpotify.csv\"\n",
    "S3_CLEANED_PATH = \"cleaned/P4KxSpotify.csv\"\n",
    "\n",
    "IN_PATH = os.path.join(S3_BUCKET, S3_RAW_PATH)\n",
    "OUT_PATH = os.path.join(S3_BUCKET, S3_CLEANED_PATH)"
   ]
  },
  {
   "cell_type": "markdown",
   "id": "a612e3fe-6bae-4609-864f-df6550457b9e",
   "metadata": {},
   "source": [
    "## Data exploration"
   ]
  },
  {
   "cell_type": "code",
   "execution_count": 4,
   "id": "a7f8be6d-8a5c-4411-ab09-d890b804d7e9",
   "metadata": {},
   "outputs": [],
   "source": [
    "data = pd.read_csv(IN_PATH)"
   ]
  },
  {
   "cell_type": "code",
   "execution_count": 5,
   "id": "53551804-41f8-4691-b749-54912713a67a",
   "metadata": {},
   "outputs": [
    {
     "data": {
      "text/plain": "                 artist                                              album  \\\n0              Studio 1                                           Studio 1   \n1            John Fahey                  The Great Santa Barbara Oil Slick   \n2        Reigning Sound                                    Too Much Guitar   \n3        The Red Thread                                     After the Last   \n4            Mac Miller                                           Swimming   \n5          French Kicks                                           Swimming   \n6  Jessica Lea Mayfield                        With Blasphemy So Heartfelt   \n7                The LK                                The LK vs. the Snow   \n8       The Essex Green                                     Essex Green EP   \n9         Grateful Dead  The Grateful Dead: 50th Anniversary Deluxe Edi...   \n\n         reviewauthor  score  releaseyear        reviewdate   recordlabel  \\\n0      Andy Battaglia    8.5       2009.0  February 18 2009        Studio   \n1     Mark Richardson    8.2       2005.0  February 13 2005         Water   \n2  Stephen M. Deusner    8.3       2004.0    August 19 2004    In the Red   \n3        Chris Dahlen    7.3       2003.0      July 17 2003        Badman   \n4      Evan Rytlewski    7.5       2018.0     August 3 2018  Warner Bros.   \n5         Roque Strew    7.6       2008.0    August 27 2008       Vagrant   \n6  Stephen M. Deusner    8.2       2008.0  November 11 2008       Polymer   \n7         Joe Tangari    7.9          NaN     March 14 2008          Kora   \n8          Matt LeMay    8.1       2000.0       May 31 2000       Parasol   \n9        Sam Sodomsky    6.9       2017.0   January 19 2017         Rhino   \n\n          genre  danceability    energy       key   loudness  speechiness  \\\n0    Electronic      0.511917  0.499667  5.250000  -5.626583     0.031983   \n1  Folk/Country      0.369765  0.325412  4.470588 -19.153824     0.148624   \n2    Electronic      0.253943  0.912857  4.428571  -1.089500     0.055500   \n3          Rock      0.425400  0.433474  5.700000 -12.871000     0.028260   \n4           Rap      0.624846  0.438154  4.153846  -9.456077     0.170246   \n5    Electronic      0.624846  0.438154  4.153846  -9.456077     0.170246   \n6          Rock      0.447583  0.399083  6.500000  -8.402000     0.032267   \n7          Rock      0.643273  0.714636  6.363636  -7.303182     0.048245   \n8          Rock      0.729000  0.932000  5.000000  -3.038000     0.062300   \n9          Rock      0.429400  0.429000  4.750000 -12.009250     0.048135   \n\n   acousticness  instrumentalness  liveness   valence       tempo  \n0      0.724917          0.024493  0.165367  0.555083  101.395167  \n1      0.647053          0.559133  0.527782  0.179465  107.622647  \n2      0.000253          0.751214  0.199071  0.552786  133.895500  \n3      0.310325          0.224137  0.125150  0.451400  104.354200  \n4      0.652462          0.012819  0.121131  0.281138  122.121308  \n5      0.652462          0.012819  0.121131  0.281138  122.121308  \n6      0.694750          0.004033  0.123142  0.237933  111.549917  \n7      0.200055          0.008306  0.211927  0.704545  121.010546  \n8      0.002270          0.197000  0.139000  0.283000  127.988000  \n9      0.592355          0.300195  0.180605  0.503805   94.168000  ",
      "text/html": "<div>\n<style scoped>\n    .dataframe tbody tr th:only-of-type {\n        vertical-align: middle;\n    }\n\n    .dataframe tbody tr th {\n        vertical-align: top;\n    }\n\n    .dataframe thead th {\n        text-align: right;\n    }\n</style>\n<table border=\"1\" class=\"dataframe\">\n  <thead>\n    <tr style=\"text-align: right;\">\n      <th></th>\n      <th>artist</th>\n      <th>album</th>\n      <th>reviewauthor</th>\n      <th>score</th>\n      <th>releaseyear</th>\n      <th>reviewdate</th>\n      <th>recordlabel</th>\n      <th>genre</th>\n      <th>danceability</th>\n      <th>energy</th>\n      <th>key</th>\n      <th>loudness</th>\n      <th>speechiness</th>\n      <th>acousticness</th>\n      <th>instrumentalness</th>\n      <th>liveness</th>\n      <th>valence</th>\n      <th>tempo</th>\n    </tr>\n  </thead>\n  <tbody>\n    <tr>\n      <th>0</th>\n      <td>Studio 1</td>\n      <td>Studio 1</td>\n      <td>Andy Battaglia</td>\n      <td>8.5</td>\n      <td>2009.0</td>\n      <td>February 18 2009</td>\n      <td>Studio</td>\n      <td>Electronic</td>\n      <td>0.511917</td>\n      <td>0.499667</td>\n      <td>5.250000</td>\n      <td>-5.626583</td>\n      <td>0.031983</td>\n      <td>0.724917</td>\n      <td>0.024493</td>\n      <td>0.165367</td>\n      <td>0.555083</td>\n      <td>101.395167</td>\n    </tr>\n    <tr>\n      <th>1</th>\n      <td>John Fahey</td>\n      <td>The Great Santa Barbara Oil Slick</td>\n      <td>Mark Richardson</td>\n      <td>8.2</td>\n      <td>2005.0</td>\n      <td>February 13 2005</td>\n      <td>Water</td>\n      <td>Folk/Country</td>\n      <td>0.369765</td>\n      <td>0.325412</td>\n      <td>4.470588</td>\n      <td>-19.153824</td>\n      <td>0.148624</td>\n      <td>0.647053</td>\n      <td>0.559133</td>\n      <td>0.527782</td>\n      <td>0.179465</td>\n      <td>107.622647</td>\n    </tr>\n    <tr>\n      <th>2</th>\n      <td>Reigning Sound</td>\n      <td>Too Much Guitar</td>\n      <td>Stephen M. Deusner</td>\n      <td>8.3</td>\n      <td>2004.0</td>\n      <td>August 19 2004</td>\n      <td>In the Red</td>\n      <td>Electronic</td>\n      <td>0.253943</td>\n      <td>0.912857</td>\n      <td>4.428571</td>\n      <td>-1.089500</td>\n      <td>0.055500</td>\n      <td>0.000253</td>\n      <td>0.751214</td>\n      <td>0.199071</td>\n      <td>0.552786</td>\n      <td>133.895500</td>\n    </tr>\n    <tr>\n      <th>3</th>\n      <td>The Red Thread</td>\n      <td>After the Last</td>\n      <td>Chris Dahlen</td>\n      <td>7.3</td>\n      <td>2003.0</td>\n      <td>July 17 2003</td>\n      <td>Badman</td>\n      <td>Rock</td>\n      <td>0.425400</td>\n      <td>0.433474</td>\n      <td>5.700000</td>\n      <td>-12.871000</td>\n      <td>0.028260</td>\n      <td>0.310325</td>\n      <td>0.224137</td>\n      <td>0.125150</td>\n      <td>0.451400</td>\n      <td>104.354200</td>\n    </tr>\n    <tr>\n      <th>4</th>\n      <td>Mac Miller</td>\n      <td>Swimming</td>\n      <td>Evan Rytlewski</td>\n      <td>7.5</td>\n      <td>2018.0</td>\n      <td>August 3 2018</td>\n      <td>Warner Bros.</td>\n      <td>Rap</td>\n      <td>0.624846</td>\n      <td>0.438154</td>\n      <td>4.153846</td>\n      <td>-9.456077</td>\n      <td>0.170246</td>\n      <td>0.652462</td>\n      <td>0.012819</td>\n      <td>0.121131</td>\n      <td>0.281138</td>\n      <td>122.121308</td>\n    </tr>\n    <tr>\n      <th>5</th>\n      <td>French Kicks</td>\n      <td>Swimming</td>\n      <td>Roque Strew</td>\n      <td>7.6</td>\n      <td>2008.0</td>\n      <td>August 27 2008</td>\n      <td>Vagrant</td>\n      <td>Electronic</td>\n      <td>0.624846</td>\n      <td>0.438154</td>\n      <td>4.153846</td>\n      <td>-9.456077</td>\n      <td>0.170246</td>\n      <td>0.652462</td>\n      <td>0.012819</td>\n      <td>0.121131</td>\n      <td>0.281138</td>\n      <td>122.121308</td>\n    </tr>\n    <tr>\n      <th>6</th>\n      <td>Jessica Lea Mayfield</td>\n      <td>With Blasphemy So Heartfelt</td>\n      <td>Stephen M. Deusner</td>\n      <td>8.2</td>\n      <td>2008.0</td>\n      <td>November 11 2008</td>\n      <td>Polymer</td>\n      <td>Rock</td>\n      <td>0.447583</td>\n      <td>0.399083</td>\n      <td>6.500000</td>\n      <td>-8.402000</td>\n      <td>0.032267</td>\n      <td>0.694750</td>\n      <td>0.004033</td>\n      <td>0.123142</td>\n      <td>0.237933</td>\n      <td>111.549917</td>\n    </tr>\n    <tr>\n      <th>7</th>\n      <td>The LK</td>\n      <td>The LK vs. the Snow</td>\n      <td>Joe Tangari</td>\n      <td>7.9</td>\n      <td>NaN</td>\n      <td>March 14 2008</td>\n      <td>Kora</td>\n      <td>Rock</td>\n      <td>0.643273</td>\n      <td>0.714636</td>\n      <td>6.363636</td>\n      <td>-7.303182</td>\n      <td>0.048245</td>\n      <td>0.200055</td>\n      <td>0.008306</td>\n      <td>0.211927</td>\n      <td>0.704545</td>\n      <td>121.010546</td>\n    </tr>\n    <tr>\n      <th>8</th>\n      <td>The Essex Green</td>\n      <td>Essex Green EP</td>\n      <td>Matt LeMay</td>\n      <td>8.1</td>\n      <td>2000.0</td>\n      <td>May 31 2000</td>\n      <td>Parasol</td>\n      <td>Rock</td>\n      <td>0.729000</td>\n      <td>0.932000</td>\n      <td>5.000000</td>\n      <td>-3.038000</td>\n      <td>0.062300</td>\n      <td>0.002270</td>\n      <td>0.197000</td>\n      <td>0.139000</td>\n      <td>0.283000</td>\n      <td>127.988000</td>\n    </tr>\n    <tr>\n      <th>9</th>\n      <td>Grateful Dead</td>\n      <td>The Grateful Dead: 50th Anniversary Deluxe Edi...</td>\n      <td>Sam Sodomsky</td>\n      <td>6.9</td>\n      <td>2017.0</td>\n      <td>January 19 2017</td>\n      <td>Rhino</td>\n      <td>Rock</td>\n      <td>0.429400</td>\n      <td>0.429000</td>\n      <td>4.750000</td>\n      <td>-12.009250</td>\n      <td>0.048135</td>\n      <td>0.592355</td>\n      <td>0.300195</td>\n      <td>0.180605</td>\n      <td>0.503805</td>\n      <td>94.168000</td>\n    </tr>\n  </tbody>\n</table>\n</div>"
     },
     "execution_count": 5,
     "metadata": {},
     "output_type": "execute_result"
    }
   ],
   "source": [
    "data.head(10)"
   ]
  },
  {
   "cell_type": "code",
   "execution_count": 6,
   "id": "251d190d-7a74-4a76-8252-8ced99b13ee1",
   "metadata": {},
   "outputs": [
    {
     "data": {
      "text/plain": "artist               object\nalbum                object\nreviewauthor         object\nscore               float64\nreleaseyear         float64\nreviewdate           object\nrecordlabel          object\ngenre                object\ndanceability        float64\nenergy              float64\nkey                 float64\nloudness            float64\nspeechiness         float64\nacousticness        float64\ninstrumentalness    float64\nliveness            float64\nvalence             float64\ntempo               float64\ndtype: object"
     },
     "execution_count": 6,
     "metadata": {},
     "output_type": "execute_result"
    }
   ],
   "source": [
    "data.dtypes"
   ]
  },
  {
   "cell_type": "markdown",
   "id": "39fb8c32-e162-4840-b05d-3a85badeb97c",
   "metadata": {},
   "source": [
    "### Audio feature interpretation\n",
    "\n",
    "[Source](https://developer.spotify.com/documentation/web-api/reference/)\n",
    "\n",
    "- `danceability`\n",
    "Danceability describes how suitable a track is for dancing based on a combination of musical elements including tempo, rhythm stability, beat strength, and overall regularity. A value of 0.0 is least danceable and 1.0 is most danceable. (Float)\n",
    "\n",
    "- `energy`\n",
    "Energy is a measure from 0.0 to 1.0 and represents a perceptual measure of intensity and activity. Typically, energetic tracks feel fast, loud, and noisy. For example, death metal has high energy, while a Bach prelude scores low on the scale. Perceptual features contributing to this attribute include dynamic range, perceived loudness, timbre, onset rate, and general entropy. (Float)\n",
    "\n",
    "- `key`\n",
    "The key the track is in. Integers map to pitches using standard Pitch Class notation . E.g. 0 = C, 1 = C♯/D♭, 2 = D, and so on. (Integer)\n",
    "\n",
    "- `loudness`\n",
    "The overall loudness of a track in decibels (dB). Loudness values are averaged across the entire track and are useful for comparing relative loudness of tracks. Loudness is the quality of a sound that is the primary psychological correlate of physical strength (amplitude). Values typical range between -60 and 0 db. (Float)\n",
    "\n",
    "- `acousticness`\n",
    "A confidence measure from 0.0 to 1.0 of whether the track is acoustic. 1.0 represents high confidence the track is acoustic. (Float)\n",
    "\n",
    "- `speechiness`\n",
    "Speechiness detects the presence of spoken words in a track. The more exclusively speech-like the recording (e.g. talk show, audio book, poetry), the closer to 1.0 the attribute value. Values above 0.66 describe tracks that are probably made entirely of spoken words. Values between 0.33 and 0.66 describe tracks that may contain both music and speech, either in sections or layered, including such cases as rap music. Values below 0.33 most likely represent music and other non-speech-like tracks. (Float)\n",
    "\n",
    "- `instrumentalness`\n",
    "Predicts whether a track contains no vocals. “Ooh” and “aah” sounds are treated as instrumental in this context. Rap or spoken word tracks are clearly “vocal”. The closer the instrumentalness value is to 1.0, the greater likelihood the track contains no vocal content. Values above 0.5 are intended to represent instrumental tracks, but confidence is higher as the value approaches 1.0. (Float)\n",
    "\n",
    "- `liveness`\n",
    "Detects the presence of an audience in the recording. Higher liveness values represent an increased probability that the track was performed live. A value above 0.8 provides strong likelihood that the track is live. (Float)\n",
    "\n",
    "- `valence`\n",
    "A measure from 0.0 to 1.0 describing the musical positiveness conveyed by a track. Tracks with high valence sound more positive (e.g. happy, cheerful, euphoric), while tracks with low valence sound more negative (e.g. sad, depressed, angry). (Float)\n",
    "\n",
    "- `tempo`\n",
    "The overall estimated tempo of a track in beats per minute (BPM). In musical terminology, tempo is the speed or pace of a given piece and derives directly from the average beat duration. (Float)"
   ]
  },
  {
   "cell_type": "code",
   "execution_count": 7,
   "id": "92e3474a-5760-49fb-bf69-a14cec932cf5",
   "metadata": {},
   "outputs": [
    {
     "data": {
      "text/plain": "              score   releaseyear  danceability        energy           key  \\\ncount  18403.000000  18078.000000  18403.000000  18403.000000  18403.000000   \nmean       7.033255   2009.315411      0.510635      0.600806      5.215836   \nstd        1.251850      7.708710      0.159833      0.204257      1.619708   \nmin        0.000000   1957.000000     -1.000000     -1.000000     -1.000000   \n25%        6.500000   2005.000000      0.405784      0.471787      4.333333   \n50%        7.300000   2010.000000      0.510417      0.624364      5.230769   \n75%        7.800000   2015.000000      0.622000      0.750586      6.100000   \nmax       10.000000   2019.000000      0.974000      0.999000     11.000000   \n\n           loudness   speechiness  acousticness  instrumentalness  \\\ncount  18403.000000  18403.000000  18403.000000      18403.000000   \nmean      -9.318390      0.091125      0.302895          0.278616   \nstd        4.264038      0.092428      0.263730          0.300740   \nmin      -51.728750     -1.000000     -1.000000         -1.000000   \n25%      -11.248350      0.040704      0.089842          0.010060   \n50%       -8.492333      0.056808      0.229806          0.153433   \n75%       -6.416397      0.100029      0.463416          0.506816   \nmax        4.078000      0.958000      0.996000          0.982000   \n\n           liveness       valence         tempo  \ncount  18403.000000  18403.000000  18403.000000  \nmean       0.196500      0.404326    120.289697  \nstd        0.105458      0.183464     15.613327  \nmin       -1.000000     -1.000000     -1.000000  \n25%        0.134153      0.271800    111.193425  \n50%        0.174350      0.405313    120.367385  \n75%        0.228890      0.532203    129.098775  \nmax        0.978000      0.971000    215.972000  ",
      "text/html": "<div>\n<style scoped>\n    .dataframe tbody tr th:only-of-type {\n        vertical-align: middle;\n    }\n\n    .dataframe tbody tr th {\n        vertical-align: top;\n    }\n\n    .dataframe thead th {\n        text-align: right;\n    }\n</style>\n<table border=\"1\" class=\"dataframe\">\n  <thead>\n    <tr style=\"text-align: right;\">\n      <th></th>\n      <th>score</th>\n      <th>releaseyear</th>\n      <th>danceability</th>\n      <th>energy</th>\n      <th>key</th>\n      <th>loudness</th>\n      <th>speechiness</th>\n      <th>acousticness</th>\n      <th>instrumentalness</th>\n      <th>liveness</th>\n      <th>valence</th>\n      <th>tempo</th>\n    </tr>\n  </thead>\n  <tbody>\n    <tr>\n      <th>count</th>\n      <td>18403.000000</td>\n      <td>18078.000000</td>\n      <td>18403.000000</td>\n      <td>18403.000000</td>\n      <td>18403.000000</td>\n      <td>18403.000000</td>\n      <td>18403.000000</td>\n      <td>18403.000000</td>\n      <td>18403.000000</td>\n      <td>18403.000000</td>\n      <td>18403.000000</td>\n      <td>18403.000000</td>\n    </tr>\n    <tr>\n      <th>mean</th>\n      <td>7.033255</td>\n      <td>2009.315411</td>\n      <td>0.510635</td>\n      <td>0.600806</td>\n      <td>5.215836</td>\n      <td>-9.318390</td>\n      <td>0.091125</td>\n      <td>0.302895</td>\n      <td>0.278616</td>\n      <td>0.196500</td>\n      <td>0.404326</td>\n      <td>120.289697</td>\n    </tr>\n    <tr>\n      <th>std</th>\n      <td>1.251850</td>\n      <td>7.708710</td>\n      <td>0.159833</td>\n      <td>0.204257</td>\n      <td>1.619708</td>\n      <td>4.264038</td>\n      <td>0.092428</td>\n      <td>0.263730</td>\n      <td>0.300740</td>\n      <td>0.105458</td>\n      <td>0.183464</td>\n      <td>15.613327</td>\n    </tr>\n    <tr>\n      <th>min</th>\n      <td>0.000000</td>\n      <td>1957.000000</td>\n      <td>-1.000000</td>\n      <td>-1.000000</td>\n      <td>-1.000000</td>\n      <td>-51.728750</td>\n      <td>-1.000000</td>\n      <td>-1.000000</td>\n      <td>-1.000000</td>\n      <td>-1.000000</td>\n      <td>-1.000000</td>\n      <td>-1.000000</td>\n    </tr>\n    <tr>\n      <th>25%</th>\n      <td>6.500000</td>\n      <td>2005.000000</td>\n      <td>0.405784</td>\n      <td>0.471787</td>\n      <td>4.333333</td>\n      <td>-11.248350</td>\n      <td>0.040704</td>\n      <td>0.089842</td>\n      <td>0.010060</td>\n      <td>0.134153</td>\n      <td>0.271800</td>\n      <td>111.193425</td>\n    </tr>\n    <tr>\n      <th>50%</th>\n      <td>7.300000</td>\n      <td>2010.000000</td>\n      <td>0.510417</td>\n      <td>0.624364</td>\n      <td>5.230769</td>\n      <td>-8.492333</td>\n      <td>0.056808</td>\n      <td>0.229806</td>\n      <td>0.153433</td>\n      <td>0.174350</td>\n      <td>0.405313</td>\n      <td>120.367385</td>\n    </tr>\n    <tr>\n      <th>75%</th>\n      <td>7.800000</td>\n      <td>2015.000000</td>\n      <td>0.622000</td>\n      <td>0.750586</td>\n      <td>6.100000</td>\n      <td>-6.416397</td>\n      <td>0.100029</td>\n      <td>0.463416</td>\n      <td>0.506816</td>\n      <td>0.228890</td>\n      <td>0.532203</td>\n      <td>129.098775</td>\n    </tr>\n    <tr>\n      <th>max</th>\n      <td>10.000000</td>\n      <td>2019.000000</td>\n      <td>0.974000</td>\n      <td>0.999000</td>\n      <td>11.000000</td>\n      <td>4.078000</td>\n      <td>0.958000</td>\n      <td>0.996000</td>\n      <td>0.982000</td>\n      <td>0.978000</td>\n      <td>0.971000</td>\n      <td>215.972000</td>\n    </tr>\n  </tbody>\n</table>\n</div>"
     },
     "execution_count": 7,
     "metadata": {},
     "output_type": "execute_result"
    }
   ],
   "source": [
    "data.describe()"
   ]
  },
  {
   "cell_type": "markdown",
   "id": "34a6b826-96c6-418f-acdb-90b9f0f9b79d",
   "metadata": {},
   "source": [
    "### Missing values"
   ]
  },
  {
   "cell_type": "code",
   "execution_count": 8,
   "id": "09c8199f-8819-4a08-bfb0-800b9c93fe4b",
   "metadata": {},
   "outputs": [
    {
     "data": {
      "text/plain": "artist                 1\nalbum                  0\nreviewauthor           0\nscore                  0\nreleaseyear          325\nreviewdate             0\nrecordlabel           26\ngenre               1289\ndanceability           0\nenergy                 0\nkey                    0\nloudness               0\nspeechiness            0\nacousticness           0\ninstrumentalness       0\nliveness               0\nvalence                0\ntempo                  0\ndtype: int64"
     },
     "execution_count": 8,
     "metadata": {},
     "output_type": "execute_result"
    }
   ],
   "source": [
    "data.apply(lambda x: sum(pd.isna(x)))"
   ]
  },
  {
   "cell_type": "markdown",
   "id": "70ab0874-f7cc-45a4-948b-ed68440bb840",
   "metadata": {},
   "source": [
    "#### Artist"
   ]
  },
  {
   "cell_type": "code",
   "execution_count": 9,
   "id": "746d27a9-627a-47f6-a5b3-e3709499b550",
   "metadata": {},
   "outputs": [
    {
     "data": {
      "text/plain": "     artist      album  reviewauthor  score  releaseyear        reviewdate  \\\n4720    NaN  Cellar EP  Kevin Lozano    7.5       2016.0  February 29 2016   \n\n       recordlabel       genre  danceability  energy   key  loudness  \\\n4720  Fade to Mind  Electronic      0.769375  0.7285  8.75  -3.59075   \n\n      speechiness  acousticness  instrumentalness  liveness   valence  \\\n4720     0.184388      0.151625            0.2105  0.198875  0.686125   \n\n          tempo  \n4720  93.503375  ",
      "text/html": "<div>\n<style scoped>\n    .dataframe tbody tr th:only-of-type {\n        vertical-align: middle;\n    }\n\n    .dataframe tbody tr th {\n        vertical-align: top;\n    }\n\n    .dataframe thead th {\n        text-align: right;\n    }\n</style>\n<table border=\"1\" class=\"dataframe\">\n  <thead>\n    <tr style=\"text-align: right;\">\n      <th></th>\n      <th>artist</th>\n      <th>album</th>\n      <th>reviewauthor</th>\n      <th>score</th>\n      <th>releaseyear</th>\n      <th>reviewdate</th>\n      <th>recordlabel</th>\n      <th>genre</th>\n      <th>danceability</th>\n      <th>energy</th>\n      <th>key</th>\n      <th>loudness</th>\n      <th>speechiness</th>\n      <th>acousticness</th>\n      <th>instrumentalness</th>\n      <th>liveness</th>\n      <th>valence</th>\n      <th>tempo</th>\n    </tr>\n  </thead>\n  <tbody>\n    <tr>\n      <th>4720</th>\n      <td>NaN</td>\n      <td>Cellar EP</td>\n      <td>Kevin Lozano</td>\n      <td>7.5</td>\n      <td>2016.0</td>\n      <td>February 29 2016</td>\n      <td>Fade to Mind</td>\n      <td>Electronic</td>\n      <td>0.769375</td>\n      <td>0.7285</td>\n      <td>8.75</td>\n      <td>-3.59075</td>\n      <td>0.184388</td>\n      <td>0.151625</td>\n      <td>0.2105</td>\n      <td>0.198875</td>\n      <td>0.686125</td>\n      <td>93.503375</td>\n    </tr>\n  </tbody>\n</table>\n</div>"
     },
     "execution_count": 9,
     "metadata": {},
     "output_type": "execute_result"
    }
   ],
   "source": [
    "# Find the row with missing data\n",
    "data[pd.isna(data[\"artist\"])]"
   ]
  },
  {
   "cell_type": "markdown",
   "id": "91ef4a67-622e-48f6-87d4-70666ec7ba7f",
   "metadata": {},
   "source": [
    "The artist really is named \"NA\" here (ha)."
   ]
  },
  {
   "cell_type": "code",
   "execution_count": 10,
   "id": "9ce0f141-1028-4f19-ae9d-445da11f5013",
   "metadata": {},
   "outputs": [],
   "source": [
    "# Replace with corrected value\n",
    "data[\"artist\"] = data[\"artist\"].where(data[\"artist\"].notna(), other=\"NA\")"
   ]
  },
  {
   "cell_type": "code",
   "execution_count": 11,
   "id": "9b5ea0aa-0da5-4b66-b6f6-98ea528c0a3f",
   "metadata": {},
   "outputs": [
    {
     "data": {
      "text/plain": "Empty DataFrame\nColumns: [artist, album, reviewauthor, score, releaseyear, reviewdate, recordlabel, genre, danceability, energy, key, loudness, speechiness, acousticness, instrumentalness, liveness, valence, tempo]\nIndex: []",
      "text/html": "<div>\n<style scoped>\n    .dataframe tbody tr th:only-of-type {\n        vertical-align: middle;\n    }\n\n    .dataframe tbody tr th {\n        vertical-align: top;\n    }\n\n    .dataframe thead th {\n        text-align: right;\n    }\n</style>\n<table border=\"1\" class=\"dataframe\">\n  <thead>\n    <tr style=\"text-align: right;\">\n      <th></th>\n      <th>artist</th>\n      <th>album</th>\n      <th>reviewauthor</th>\n      <th>score</th>\n      <th>releaseyear</th>\n      <th>reviewdate</th>\n      <th>recordlabel</th>\n      <th>genre</th>\n      <th>danceability</th>\n      <th>energy</th>\n      <th>key</th>\n      <th>loudness</th>\n      <th>speechiness</th>\n      <th>acousticness</th>\n      <th>instrumentalness</th>\n      <th>liveness</th>\n      <th>valence</th>\n      <th>tempo</th>\n    </tr>\n  </thead>\n  <tbody>\n  </tbody>\n</table>\n</div>"
     },
     "execution_count": 11,
     "metadata": {},
     "output_type": "execute_result"
    }
   ],
   "source": [
    "# Check that the change went through okay\n",
    "data[pd.isna(data[\"artist\"])]"
   ]
  },
  {
   "cell_type": "markdown",
   "id": "29d0ca01-b0e7-4b6a-bf7a-a2e948242c84",
   "metadata": {},
   "source": [
    "#### Release year"
   ]
  },
  {
   "cell_type": "code",
   "execution_count": 12,
   "id": "b14acba4-ca2e-45bc-bf21-8096095f0240",
   "metadata": {},
   "outputs": [
    {
     "data": {
      "text/plain": "                                artist                            album  \\\n7                               The LK              The LK vs. the Snow   \n10                       The Anomoanon                    The Anomoanon   \n21     Miles Benjamin Anthony Robinson  Miles Benjamin Anthony Robinson   \n109                       Wagon Christ                          Musipal   \n154                  Nightmares on Wax                         DJ Kicks   \n...                                ...                              ...   \n17843                     Anne M√ºller                       Heliopause   \n17844                             Beck                       Hyperspace   \n17846                 Galcher Lustwerk                      Information   \n17961                  Floating Points                            Crush   \n18032                        Blink-182                             NINE   \n\n                  reviewauthor  score  releaseyear         reviewdate  \\\n7                  Joe Tangari    7.9          NaN      March 14 2008   \n10                  Matt LeMay    7.7          NaN   February 20 2001   \n21                 Joshua Love    7.5          NaN       July 16 2008   \n109               Spencer Owen    8.0          NaN       March 6 2001   \n154                Paul Cooper    5.5          NaN     October 3 2000   \n...                        ...    ...          ...                ...   \n17843                Andy Beta    6.9          NaN    December 4 2019   \n17844             Sam Sodomsky    6.5          NaN    December 3 2019   \n17846  Nathan Taylor Pemberton    7.9          NaN    December 3 2019   \n17961           Shawn Reynaldo    8.3          NaN    October 21 2019   \n18032             Nathan Smith    5.2          NaN  September 28 2019   \n\n      recordlabel         genre  danceability    energy       key   loudness  \\\n7            Kora          Rock      0.643273  0.714636  6.363636  -7.303182   \n10         Palace  Folk/Country      0.441600  0.391500  5.500000 -10.995200   \n21        Say Hey          Rock      0.430500  0.467000  5.200000  -7.209900   \n109    Ninja Tune    Electronic      0.677750  0.761500  6.083333  -6.392417   \n154           !K7    Electronic      0.661000  0.587471  7.058824 -15.248647   \n...           ...           ...           ...       ...       ...        ...   \n17843        none  Experimental      0.328267  0.185633  5.000000 -19.779333   \n17844        none          Rock      0.541545  0.558818  6.000000  -8.057182   \n17846        none    Electronic      0.679667  0.712867  5.866667  -7.372800   \n17961        none    Electronic      0.910000  0.401000  1.000000  -9.552000   \n18032        none          Rock      0.522867  0.854800  4.800000  -4.805267   \n\n       speechiness  acousticness  instrumentalness  liveness   valence  \\\n7         0.048245      0.200055          0.008306  0.211927  0.704545   \n10        0.033010      0.632400          0.255044  0.142400  0.375560   \n21        0.033330      0.500300          0.002007  0.178710  0.295720   \n109       0.096008      0.118804          0.496151  0.275542  0.541417   \n154       0.059094      0.100989          0.754471  0.201106  0.575941   \n...            ...           ...               ...       ...       ...   \n17843     0.050833      0.840667          0.901167  0.091167  0.095483   \n17844     0.064418      0.349591          0.038845  0.126373  0.305391   \n17846     0.057353      0.135023          0.393349  0.181960  0.554667   \n17961     0.085500      0.030200          0.000159  0.080100  0.824000   \n18032     0.080053      0.018838          0.000005  0.208887  0.472333   \n\n            tempo  \n7      121.010546  \n10     126.895400  \n21     105.568200  \n109    130.025167  \n154    136.011294  \n...           ...  \n17843   97.856333  \n17844  109.050727  \n17846  114.068133  \n17961  135.994000  \n18032  147.870267  \n\n[325 rows x 18 columns]",
      "text/html": "<div>\n<style scoped>\n    .dataframe tbody tr th:only-of-type {\n        vertical-align: middle;\n    }\n\n    .dataframe tbody tr th {\n        vertical-align: top;\n    }\n\n    .dataframe thead th {\n        text-align: right;\n    }\n</style>\n<table border=\"1\" class=\"dataframe\">\n  <thead>\n    <tr style=\"text-align: right;\">\n      <th></th>\n      <th>artist</th>\n      <th>album</th>\n      <th>reviewauthor</th>\n      <th>score</th>\n      <th>releaseyear</th>\n      <th>reviewdate</th>\n      <th>recordlabel</th>\n      <th>genre</th>\n      <th>danceability</th>\n      <th>energy</th>\n      <th>key</th>\n      <th>loudness</th>\n      <th>speechiness</th>\n      <th>acousticness</th>\n      <th>instrumentalness</th>\n      <th>liveness</th>\n      <th>valence</th>\n      <th>tempo</th>\n    </tr>\n  </thead>\n  <tbody>\n    <tr>\n      <th>7</th>\n      <td>The LK</td>\n      <td>The LK vs. the Snow</td>\n      <td>Joe Tangari</td>\n      <td>7.9</td>\n      <td>NaN</td>\n      <td>March 14 2008</td>\n      <td>Kora</td>\n      <td>Rock</td>\n      <td>0.643273</td>\n      <td>0.714636</td>\n      <td>6.363636</td>\n      <td>-7.303182</td>\n      <td>0.048245</td>\n      <td>0.200055</td>\n      <td>0.008306</td>\n      <td>0.211927</td>\n      <td>0.704545</td>\n      <td>121.010546</td>\n    </tr>\n    <tr>\n      <th>10</th>\n      <td>The Anomoanon</td>\n      <td>The Anomoanon</td>\n      <td>Matt LeMay</td>\n      <td>7.7</td>\n      <td>NaN</td>\n      <td>February 20 2001</td>\n      <td>Palace</td>\n      <td>Folk/Country</td>\n      <td>0.441600</td>\n      <td>0.391500</td>\n      <td>5.500000</td>\n      <td>-10.995200</td>\n      <td>0.033010</td>\n      <td>0.632400</td>\n      <td>0.255044</td>\n      <td>0.142400</td>\n      <td>0.375560</td>\n      <td>126.895400</td>\n    </tr>\n    <tr>\n      <th>21</th>\n      <td>Miles Benjamin Anthony Robinson</td>\n      <td>Miles Benjamin Anthony Robinson</td>\n      <td>Joshua Love</td>\n      <td>7.5</td>\n      <td>NaN</td>\n      <td>July 16 2008</td>\n      <td>Say Hey</td>\n      <td>Rock</td>\n      <td>0.430500</td>\n      <td>0.467000</td>\n      <td>5.200000</td>\n      <td>-7.209900</td>\n      <td>0.033330</td>\n      <td>0.500300</td>\n      <td>0.002007</td>\n      <td>0.178710</td>\n      <td>0.295720</td>\n      <td>105.568200</td>\n    </tr>\n    <tr>\n      <th>109</th>\n      <td>Wagon Christ</td>\n      <td>Musipal</td>\n      <td>Spencer Owen</td>\n      <td>8.0</td>\n      <td>NaN</td>\n      <td>March 6 2001</td>\n      <td>Ninja Tune</td>\n      <td>Electronic</td>\n      <td>0.677750</td>\n      <td>0.761500</td>\n      <td>6.083333</td>\n      <td>-6.392417</td>\n      <td>0.096008</td>\n      <td>0.118804</td>\n      <td>0.496151</td>\n      <td>0.275542</td>\n      <td>0.541417</td>\n      <td>130.025167</td>\n    </tr>\n    <tr>\n      <th>154</th>\n      <td>Nightmares on Wax</td>\n      <td>DJ Kicks</td>\n      <td>Paul Cooper</td>\n      <td>5.5</td>\n      <td>NaN</td>\n      <td>October 3 2000</td>\n      <td>!K7</td>\n      <td>Electronic</td>\n      <td>0.661000</td>\n      <td>0.587471</td>\n      <td>7.058824</td>\n      <td>-15.248647</td>\n      <td>0.059094</td>\n      <td>0.100989</td>\n      <td>0.754471</td>\n      <td>0.201106</td>\n      <td>0.575941</td>\n      <td>136.011294</td>\n    </tr>\n    <tr>\n      <th>...</th>\n      <td>...</td>\n      <td>...</td>\n      <td>...</td>\n      <td>...</td>\n      <td>...</td>\n      <td>...</td>\n      <td>...</td>\n      <td>...</td>\n      <td>...</td>\n      <td>...</td>\n      <td>...</td>\n      <td>...</td>\n      <td>...</td>\n      <td>...</td>\n      <td>...</td>\n      <td>...</td>\n      <td>...</td>\n      <td>...</td>\n    </tr>\n    <tr>\n      <th>17843</th>\n      <td>Anne M√ºller</td>\n      <td>Heliopause</td>\n      <td>Andy Beta</td>\n      <td>6.9</td>\n      <td>NaN</td>\n      <td>December 4 2019</td>\n      <td>none</td>\n      <td>Experimental</td>\n      <td>0.328267</td>\n      <td>0.185633</td>\n      <td>5.000000</td>\n      <td>-19.779333</td>\n      <td>0.050833</td>\n      <td>0.840667</td>\n      <td>0.901167</td>\n      <td>0.091167</td>\n      <td>0.095483</td>\n      <td>97.856333</td>\n    </tr>\n    <tr>\n      <th>17844</th>\n      <td>Beck</td>\n      <td>Hyperspace</td>\n      <td>Sam Sodomsky</td>\n      <td>6.5</td>\n      <td>NaN</td>\n      <td>December 3 2019</td>\n      <td>none</td>\n      <td>Rock</td>\n      <td>0.541545</td>\n      <td>0.558818</td>\n      <td>6.000000</td>\n      <td>-8.057182</td>\n      <td>0.064418</td>\n      <td>0.349591</td>\n      <td>0.038845</td>\n      <td>0.126373</td>\n      <td>0.305391</td>\n      <td>109.050727</td>\n    </tr>\n    <tr>\n      <th>17846</th>\n      <td>Galcher Lustwerk</td>\n      <td>Information</td>\n      <td>Nathan Taylor Pemberton</td>\n      <td>7.9</td>\n      <td>NaN</td>\n      <td>December 3 2019</td>\n      <td>none</td>\n      <td>Electronic</td>\n      <td>0.679667</td>\n      <td>0.712867</td>\n      <td>5.866667</td>\n      <td>-7.372800</td>\n      <td>0.057353</td>\n      <td>0.135023</td>\n      <td>0.393349</td>\n      <td>0.181960</td>\n      <td>0.554667</td>\n      <td>114.068133</td>\n    </tr>\n    <tr>\n      <th>17961</th>\n      <td>Floating Points</td>\n      <td>Crush</td>\n      <td>Shawn Reynaldo</td>\n      <td>8.3</td>\n      <td>NaN</td>\n      <td>October 21 2019</td>\n      <td>none</td>\n      <td>Electronic</td>\n      <td>0.910000</td>\n      <td>0.401000</td>\n      <td>1.000000</td>\n      <td>-9.552000</td>\n      <td>0.085500</td>\n      <td>0.030200</td>\n      <td>0.000159</td>\n      <td>0.080100</td>\n      <td>0.824000</td>\n      <td>135.994000</td>\n    </tr>\n    <tr>\n      <th>18032</th>\n      <td>Blink-182</td>\n      <td>NINE</td>\n      <td>Nathan Smith</td>\n      <td>5.2</td>\n      <td>NaN</td>\n      <td>September 28 2019</td>\n      <td>none</td>\n      <td>Rock</td>\n      <td>0.522867</td>\n      <td>0.854800</td>\n      <td>4.800000</td>\n      <td>-4.805267</td>\n      <td>0.080053</td>\n      <td>0.018838</td>\n      <td>0.000005</td>\n      <td>0.208887</td>\n      <td>0.472333</td>\n      <td>147.870267</td>\n    </tr>\n  </tbody>\n</table>\n<p>325 rows × 18 columns</p>\n</div>"
     },
     "execution_count": 12,
     "metadata": {},
     "output_type": "execute_result"
    }
   ],
   "source": [
    "# Find the row with missing data\n",
    "data[pd.isna(data[\"releaseyear\"])]"
   ]
  },
  {
   "cell_type": "markdown",
   "id": "78f64f3d-709e-4376-a58d-c7d7e4d6ed9d",
   "metadata": {},
   "source": [
    "In general, we can assume that the album was released in the same year as the Pitchfork review."
   ]
  },
  {
   "cell_type": "code",
   "execution_count": 13,
   "id": "687fc51d-0106-470e-bdfc-a63955297604",
   "metadata": {},
   "outputs": [],
   "source": [
    "# Convert review date to datetime format\n",
    "data[\"reviewdate\"] = pd.to_datetime(data[\"reviewdate\"], format=\"%B %d %Y\")"
   ]
  },
  {
   "cell_type": "code",
   "execution_count": 14,
   "id": "240d5e97-1e2f-4ca8-b6ce-824bfce67999",
   "metadata": {},
   "outputs": [
    {
     "name": "stdout",
     "output_type": "stream",
     "text": [
      "Percentage of reviews where year of album release matches year of review: 88.57%\n"
     ]
    }
   ],
   "source": [
    "# How often is the proposed imputation method the case?\n",
    "print(\"Percentage of reviews where year of album release matches year of review: {:.2f}%\".format(\n",
    "    100 * np.mean(data.loc[~pd.isna(data[\"releaseyear\"]), \"releaseyear\"] == \\\n",
    "                  data.loc[~pd.isna(data[\"releaseyear\"]), \"reviewdate\"].dt.year)\n",
    "))"
   ]
  },
  {
   "cell_type": "code",
   "execution_count": 15,
   "id": "4f489442-28e2-4253-b85a-62bd90856322",
   "metadata": {},
   "outputs": [],
   "source": [
    "# Replace with approximate values\n",
    "data.loc[pd.isna(data[\"releaseyear\"]), \"releaseyear\"] = data[pd.isna(data[\"releaseyear\"])].loc[:, \"reviewdate\"].dt.year"
   ]
  },
  {
   "cell_type": "code",
   "execution_count": 16,
   "id": "56852a89-a925-4b21-8e2e-5efe202e2366",
   "metadata": {},
   "outputs": [
    {
     "data": {
      "text/plain": "Empty DataFrame\nColumns: [artist, album, reviewauthor, score, releaseyear, reviewdate, recordlabel, genre, danceability, energy, key, loudness, speechiness, acousticness, instrumentalness, liveness, valence, tempo]\nIndex: []",
      "text/html": "<div>\n<style scoped>\n    .dataframe tbody tr th:only-of-type {\n        vertical-align: middle;\n    }\n\n    .dataframe tbody tr th {\n        vertical-align: top;\n    }\n\n    .dataframe thead th {\n        text-align: right;\n    }\n</style>\n<table border=\"1\" class=\"dataframe\">\n  <thead>\n    <tr style=\"text-align: right;\">\n      <th></th>\n      <th>artist</th>\n      <th>album</th>\n      <th>reviewauthor</th>\n      <th>score</th>\n      <th>releaseyear</th>\n      <th>reviewdate</th>\n      <th>recordlabel</th>\n      <th>genre</th>\n      <th>danceability</th>\n      <th>energy</th>\n      <th>key</th>\n      <th>loudness</th>\n      <th>speechiness</th>\n      <th>acousticness</th>\n      <th>instrumentalness</th>\n      <th>liveness</th>\n      <th>valence</th>\n      <th>tempo</th>\n    </tr>\n  </thead>\n  <tbody>\n  </tbody>\n</table>\n</div>"
     },
     "execution_count": 16,
     "metadata": {},
     "output_type": "execute_result"
    }
   ],
   "source": [
    "# Check that the change went through okay\n",
    "data[pd.isna(data[\"releaseyear\"])]"
   ]
  },
  {
   "cell_type": "code",
   "execution_count": 17,
   "id": "d487ada1-2b65-4313-af7a-8cec5ce544dd",
   "metadata": {},
   "outputs": [],
   "source": [
    "# Keep only the date part (drop the time)\n",
    "data[\"reviewdate\"] = data[\"reviewdate\"].dt.date"
   ]
  },
  {
   "cell_type": "markdown",
   "id": "ba37efee-cd78-4f74-b4c3-9cb4441f44da",
   "metadata": {},
   "source": [
    "#### Record label"
   ]
  },
  {
   "cell_type": "code",
   "execution_count": 18,
   "id": "ee9f1c96-653a-4b6e-b4d7-f3f5ce72898c",
   "metadata": {},
   "outputs": [
    {
     "data": {
      "text/plain": "                     artist                      album        reviewauthor  \\\n1359         Run the Jewels             Run the Jewels         Nate Patrin   \n1620        Main Attrakionz   808s and Dark Grapes III      Meaghan Garvey   \n1757              Lil Wayne               Dedication 2         Peter Macia   \n1946               Curren$y       The Drive In Theatre      Jonah Bromwich   \n2382                Lot Six                    Animals         Joe Tangari   \n2512            Joey Bada$$                       1999      Felipe Delerme   \n4139              Rick Ross               Rich Forever      Jordan Sargent   \n4359   A Hawk and a Hacksaw                 Cervantine       Paul Thompson   \n4636             Chief Keef         Back From the Dead      Jordan Sargent   \n4971             King Louie               Drilluminati        Miles Raymer   \n6121                 Towkio       Community Service 2!   Abigail Covington   \n7242              Lil Wayne           Sorry 4 the Wait         Tom Breihan   \n8363                   T.I.             Fuck a Mixtape         Tom Breihan   \n9189         Action Bronson                 Blue Chips          Jeff Weiss   \n11263                Future                  56 Nights      Sheldon Pearce   \n11529           Tanya Tagaq                Retribution       Stuart Berman   \n12383     Chance the Rapper                   Acid Rap          Jeff Weiss   \n12994             Meek Mill               Dreamchasers      Jordan Sargent   \n13140         White Mystery              White Mystery         Jason Crock   \n13713         Isaiah Rashad                Cilvia Demo         Nate Patrin   \n13910        Miss Derringer                Winter Hill  Stephen M. Deusner   \n14109            Young Thug                  1017 Thug        Corban Goble   \n14133           Wiz Khalifa      Kush and Orange Juice         Tom Breihan   \n14684                 Lil B               God's Father       Jayson Greene   \n15651                  Wale  The Mixtape About Nothing       Jayson Greene   \n17614     Chance the Rapper              Coloring Book             kris ex   \n\n       score  releaseyear  reviewdate recordlabel         genre  danceability  \\\n1359     8.5       2013.0  2013-07-01         NaN           Rap      0.686643   \n1620     7.4       2015.0  2015-06-26         NaN           Rap      0.535417   \n1757     8.1       2006.0  2006-06-22         NaN           Rap      0.775000   \n1946     7.6       2014.0  2014-03-14         NaN           Rap      0.597267   \n2382     7.4       2002.0  2002-12-02         NaN           NaN      0.526846   \n2512     8.0       2012.0  2012-06-26         NaN           Rap      0.628000   \n4139     8.2       2012.0  2012-01-13         NaN           Rap      0.781583   \n4359     7.8       2011.0  2011-03-09         NaN          Rock      0.432488   \n4636     7.9       2012.0  2012-04-12         NaN           Rap      0.613167   \n4971     6.8       2012.0  2013-01-03         NaN           Rap      0.698357   \n6121     6.5       2016.0  2016-07-20         NaN           Rap      0.675571   \n7242     7.1       2011.0  2011-07-27         NaN           Rap      0.604000   \n8363     7.4       2010.0  2010-06-14         NaN           Rap      0.810600   \n9189     8.1       2012.0  2012-03-23         NaN           Rap      0.573077   \n11263    7.3       2015.0  2015-03-27         NaN           Rap      0.795000   \n11529    8.2       2016.0  2016-10-25         NaN  Experimental      0.440900   \n12383    8.4       2013.0  2013-05-07         NaN           Rap      0.645571   \n12994    7.4       2011.0  2011-10-27         NaN           Rap      0.628412   \n13140    7.2       2010.0  2010-03-30         NaN    Electronic      0.340429   \n13713    8.2       2014.0  2014-02-13         NaN           Rap      0.608000   \n13910    7.7       2009.0  2009-07-27         NaN  Folk/Country      0.172800   \n14109    7.4       2013.0  2013-04-02         NaN           Rap      0.693350   \n14133    7.2       2010.0  2010-04-22         NaN           Rap      0.589111   \n14684    8.0       2012.0  2012-03-21         NaN           Rap      0.800000   \n15651    8.4       2008.0  2008-07-29         NaN           Rap      0.654105   \n17614    9.1       2016.0  2016-05-17         NaN           Rap      0.589571   \n\n         energy       key   loudness  speechiness  acousticness  \\\n1359   0.664929  4.714286  -7.670929     0.234957      0.105507   \n1620   0.700333  4.583333  -8.350250     0.131400      0.164275   \n1757   0.554000  1.000000  -7.737000     0.162000      0.050800   \n1946   0.730800  3.133333  -8.857733     0.264320      0.148500   \n2382   0.700923  5.461538  -6.036000     0.038385      0.373499   \n2512   0.762667  5.200000  -4.572200     0.277667      0.384260   \n4139   0.565583  5.083333  -8.194417     0.324650      0.104936   \n4359   0.430125  5.750000 -10.760375     0.048475      0.582625   \n4636   0.795500  4.083333  -2.271500     0.066000      0.050125   \n4971   0.613357  6.500000  -9.662643     0.193321      0.119746   \n6121   0.676143  6.714286  -7.081714     0.345143      0.083386   \n7242   0.401125  4.000000 -13.347125     0.242000      0.277286   \n8363   0.475300  4.700000 -12.509000     0.194520      0.221727   \n9189   0.704308  6.000000  -7.278385     0.419946      0.367885   \n11263  0.486000  1.000000  -7.411000     0.075200      0.000903   \n11529  0.770400  7.600000  -6.532500     0.053880      0.055459   \n12383  0.502286  3.785714  -9.930786     0.324857      0.184071   \n12994  0.607412  4.176471  -8.791941     0.306424      0.100958   \n13140  0.989071  5.357143  -1.788143     0.138593      0.227616   \n13713  0.775214  4.500000  -5.363500     0.254757      0.430364   \n13910  0.055102  1.800000 -34.404000     0.044870      0.968700   \n14109  0.620000  4.850000  -8.644700     0.299650      0.059628   \n14133  0.743222  6.055556  -5.795333     0.236061      0.175612   \n14684  0.393000  2.000000  -5.936000     0.051300      0.002590   \n15651  0.569474  5.421053 -13.230263     0.360832      0.295586   \n17614  0.490357  5.071429  -8.173857     0.257314      0.506114   \n\n       instrumentalness  liveness   valence       tempo  \n1359           0.000112  0.253371  0.423071  116.928714  \n1620           0.025315  0.196775  0.450275  137.005833  \n1757           0.000000  0.092500  0.377000  143.102000  \n1946           0.000499  0.270127  0.504000  109.358400  \n2382           0.085362  0.159431  0.739077  116.369385  \n2512           0.030335  0.221333  0.730933  103.522067  \n4139           0.000000  0.166633  0.481417  127.001333  \n4359           0.479797  0.226362  0.539225  127.611625  \n4636           0.000000  0.261267  0.321400  131.356500  \n4971           0.002847  0.176471  0.348143  124.362429  \n6121           0.000000  0.206743  0.625714  107.905286  \n7242           0.000307  0.103063  0.440250  115.744000  \n8363           0.000036  0.137370  0.478400  126.888900  \n9189           0.000010  0.264792  0.586615  104.303539  \n11263          0.000000  0.111000  0.156000  122.991000  \n11529          0.078415  0.167930  0.276360  121.174400  \n12383          0.000050  0.291957  0.491571  112.826857  \n12994          0.000002  0.234424  0.399959  121.309177  \n13140          0.169539  0.179929  0.104014  135.963571  \n13713          0.065954  0.308650  0.600786  110.271071  \n13910          0.953500  0.106680  0.059200   88.065300  \n14109          0.000000  0.343175  0.533300  124.059000  \n14133          0.034636  0.310989  0.519256  101.674056  \n14684          0.923000  0.020900  0.343000  122.005000  \n15651          0.029800  0.444737  0.652789  116.047474  \n17614          0.005360  0.166179  0.432929  119.435429  ",
      "text/html": "<div>\n<style scoped>\n    .dataframe tbody tr th:only-of-type {\n        vertical-align: middle;\n    }\n\n    .dataframe tbody tr th {\n        vertical-align: top;\n    }\n\n    .dataframe thead th {\n        text-align: right;\n    }\n</style>\n<table border=\"1\" class=\"dataframe\">\n  <thead>\n    <tr style=\"text-align: right;\">\n      <th></th>\n      <th>artist</th>\n      <th>album</th>\n      <th>reviewauthor</th>\n      <th>score</th>\n      <th>releaseyear</th>\n      <th>reviewdate</th>\n      <th>recordlabel</th>\n      <th>genre</th>\n      <th>danceability</th>\n      <th>energy</th>\n      <th>key</th>\n      <th>loudness</th>\n      <th>speechiness</th>\n      <th>acousticness</th>\n      <th>instrumentalness</th>\n      <th>liveness</th>\n      <th>valence</th>\n      <th>tempo</th>\n    </tr>\n  </thead>\n  <tbody>\n    <tr>\n      <th>1359</th>\n      <td>Run the Jewels</td>\n      <td>Run the Jewels</td>\n      <td>Nate Patrin</td>\n      <td>8.5</td>\n      <td>2013.0</td>\n      <td>2013-07-01</td>\n      <td>NaN</td>\n      <td>Rap</td>\n      <td>0.686643</td>\n      <td>0.664929</td>\n      <td>4.714286</td>\n      <td>-7.670929</td>\n      <td>0.234957</td>\n      <td>0.105507</td>\n      <td>0.000112</td>\n      <td>0.253371</td>\n      <td>0.423071</td>\n      <td>116.928714</td>\n    </tr>\n    <tr>\n      <th>1620</th>\n      <td>Main Attrakionz</td>\n      <td>808s and Dark Grapes III</td>\n      <td>Meaghan Garvey</td>\n      <td>7.4</td>\n      <td>2015.0</td>\n      <td>2015-06-26</td>\n      <td>NaN</td>\n      <td>Rap</td>\n      <td>0.535417</td>\n      <td>0.700333</td>\n      <td>4.583333</td>\n      <td>-8.350250</td>\n      <td>0.131400</td>\n      <td>0.164275</td>\n      <td>0.025315</td>\n      <td>0.196775</td>\n      <td>0.450275</td>\n      <td>137.005833</td>\n    </tr>\n    <tr>\n      <th>1757</th>\n      <td>Lil Wayne</td>\n      <td>Dedication 2</td>\n      <td>Peter Macia</td>\n      <td>8.1</td>\n      <td>2006.0</td>\n      <td>2006-06-22</td>\n      <td>NaN</td>\n      <td>Rap</td>\n      <td>0.775000</td>\n      <td>0.554000</td>\n      <td>1.000000</td>\n      <td>-7.737000</td>\n      <td>0.162000</td>\n      <td>0.050800</td>\n      <td>0.000000</td>\n      <td>0.092500</td>\n      <td>0.377000</td>\n      <td>143.102000</td>\n    </tr>\n    <tr>\n      <th>1946</th>\n      <td>Curren$y</td>\n      <td>The Drive In Theatre</td>\n      <td>Jonah Bromwich</td>\n      <td>7.6</td>\n      <td>2014.0</td>\n      <td>2014-03-14</td>\n      <td>NaN</td>\n      <td>Rap</td>\n      <td>0.597267</td>\n      <td>0.730800</td>\n      <td>3.133333</td>\n      <td>-8.857733</td>\n      <td>0.264320</td>\n      <td>0.148500</td>\n      <td>0.000499</td>\n      <td>0.270127</td>\n      <td>0.504000</td>\n      <td>109.358400</td>\n    </tr>\n    <tr>\n      <th>2382</th>\n      <td>Lot Six</td>\n      <td>Animals</td>\n      <td>Joe Tangari</td>\n      <td>7.4</td>\n      <td>2002.0</td>\n      <td>2002-12-02</td>\n      <td>NaN</td>\n      <td>NaN</td>\n      <td>0.526846</td>\n      <td>0.700923</td>\n      <td>5.461538</td>\n      <td>-6.036000</td>\n      <td>0.038385</td>\n      <td>0.373499</td>\n      <td>0.085362</td>\n      <td>0.159431</td>\n      <td>0.739077</td>\n      <td>116.369385</td>\n    </tr>\n    <tr>\n      <th>2512</th>\n      <td>Joey Bada$$</td>\n      <td>1999</td>\n      <td>Felipe Delerme</td>\n      <td>8.0</td>\n      <td>2012.0</td>\n      <td>2012-06-26</td>\n      <td>NaN</td>\n      <td>Rap</td>\n      <td>0.628000</td>\n      <td>0.762667</td>\n      <td>5.200000</td>\n      <td>-4.572200</td>\n      <td>0.277667</td>\n      <td>0.384260</td>\n      <td>0.030335</td>\n      <td>0.221333</td>\n      <td>0.730933</td>\n      <td>103.522067</td>\n    </tr>\n    <tr>\n      <th>4139</th>\n      <td>Rick Ross</td>\n      <td>Rich Forever</td>\n      <td>Jordan Sargent</td>\n      <td>8.2</td>\n      <td>2012.0</td>\n      <td>2012-01-13</td>\n      <td>NaN</td>\n      <td>Rap</td>\n      <td>0.781583</td>\n      <td>0.565583</td>\n      <td>5.083333</td>\n      <td>-8.194417</td>\n      <td>0.324650</td>\n      <td>0.104936</td>\n      <td>0.000000</td>\n      <td>0.166633</td>\n      <td>0.481417</td>\n      <td>127.001333</td>\n    </tr>\n    <tr>\n      <th>4359</th>\n      <td>A Hawk and a Hacksaw</td>\n      <td>Cervantine</td>\n      <td>Paul Thompson</td>\n      <td>7.8</td>\n      <td>2011.0</td>\n      <td>2011-03-09</td>\n      <td>NaN</td>\n      <td>Rock</td>\n      <td>0.432488</td>\n      <td>0.430125</td>\n      <td>5.750000</td>\n      <td>-10.760375</td>\n      <td>0.048475</td>\n      <td>0.582625</td>\n      <td>0.479797</td>\n      <td>0.226362</td>\n      <td>0.539225</td>\n      <td>127.611625</td>\n    </tr>\n    <tr>\n      <th>4636</th>\n      <td>Chief Keef</td>\n      <td>Back From the Dead</td>\n      <td>Jordan Sargent</td>\n      <td>7.9</td>\n      <td>2012.0</td>\n      <td>2012-04-12</td>\n      <td>NaN</td>\n      <td>Rap</td>\n      <td>0.613167</td>\n      <td>0.795500</td>\n      <td>4.083333</td>\n      <td>-2.271500</td>\n      <td>0.066000</td>\n      <td>0.050125</td>\n      <td>0.000000</td>\n      <td>0.261267</td>\n      <td>0.321400</td>\n      <td>131.356500</td>\n    </tr>\n    <tr>\n      <th>4971</th>\n      <td>King Louie</td>\n      <td>Drilluminati</td>\n      <td>Miles Raymer</td>\n      <td>6.8</td>\n      <td>2012.0</td>\n      <td>2013-01-03</td>\n      <td>NaN</td>\n      <td>Rap</td>\n      <td>0.698357</td>\n      <td>0.613357</td>\n      <td>6.500000</td>\n      <td>-9.662643</td>\n      <td>0.193321</td>\n      <td>0.119746</td>\n      <td>0.002847</td>\n      <td>0.176471</td>\n      <td>0.348143</td>\n      <td>124.362429</td>\n    </tr>\n    <tr>\n      <th>6121</th>\n      <td>Towkio</td>\n      <td>Community Service 2!</td>\n      <td>Abigail Covington</td>\n      <td>6.5</td>\n      <td>2016.0</td>\n      <td>2016-07-20</td>\n      <td>NaN</td>\n      <td>Rap</td>\n      <td>0.675571</td>\n      <td>0.676143</td>\n      <td>6.714286</td>\n      <td>-7.081714</td>\n      <td>0.345143</td>\n      <td>0.083386</td>\n      <td>0.000000</td>\n      <td>0.206743</td>\n      <td>0.625714</td>\n      <td>107.905286</td>\n    </tr>\n    <tr>\n      <th>7242</th>\n      <td>Lil Wayne</td>\n      <td>Sorry 4 the Wait</td>\n      <td>Tom Breihan</td>\n      <td>7.1</td>\n      <td>2011.0</td>\n      <td>2011-07-27</td>\n      <td>NaN</td>\n      <td>Rap</td>\n      <td>0.604000</td>\n      <td>0.401125</td>\n      <td>4.000000</td>\n      <td>-13.347125</td>\n      <td>0.242000</td>\n      <td>0.277286</td>\n      <td>0.000307</td>\n      <td>0.103063</td>\n      <td>0.440250</td>\n      <td>115.744000</td>\n    </tr>\n    <tr>\n      <th>8363</th>\n      <td>T.I.</td>\n      <td>Fuck a Mixtape</td>\n      <td>Tom Breihan</td>\n      <td>7.4</td>\n      <td>2010.0</td>\n      <td>2010-06-14</td>\n      <td>NaN</td>\n      <td>Rap</td>\n      <td>0.810600</td>\n      <td>0.475300</td>\n      <td>4.700000</td>\n      <td>-12.509000</td>\n      <td>0.194520</td>\n      <td>0.221727</td>\n      <td>0.000036</td>\n      <td>0.137370</td>\n      <td>0.478400</td>\n      <td>126.888900</td>\n    </tr>\n    <tr>\n      <th>9189</th>\n      <td>Action Bronson</td>\n      <td>Blue Chips</td>\n      <td>Jeff Weiss</td>\n      <td>8.1</td>\n      <td>2012.0</td>\n      <td>2012-03-23</td>\n      <td>NaN</td>\n      <td>Rap</td>\n      <td>0.573077</td>\n      <td>0.704308</td>\n      <td>6.000000</td>\n      <td>-7.278385</td>\n      <td>0.419946</td>\n      <td>0.367885</td>\n      <td>0.000010</td>\n      <td>0.264792</td>\n      <td>0.586615</td>\n      <td>104.303539</td>\n    </tr>\n    <tr>\n      <th>11263</th>\n      <td>Future</td>\n      <td>56 Nights</td>\n      <td>Sheldon Pearce</td>\n      <td>7.3</td>\n      <td>2015.0</td>\n      <td>2015-03-27</td>\n      <td>NaN</td>\n      <td>Rap</td>\n      <td>0.795000</td>\n      <td>0.486000</td>\n      <td>1.000000</td>\n      <td>-7.411000</td>\n      <td>0.075200</td>\n      <td>0.000903</td>\n      <td>0.000000</td>\n      <td>0.111000</td>\n      <td>0.156000</td>\n      <td>122.991000</td>\n    </tr>\n    <tr>\n      <th>11529</th>\n      <td>Tanya Tagaq</td>\n      <td>Retribution</td>\n      <td>Stuart Berman</td>\n      <td>8.2</td>\n      <td>2016.0</td>\n      <td>2016-10-25</td>\n      <td>NaN</td>\n      <td>Experimental</td>\n      <td>0.440900</td>\n      <td>0.770400</td>\n      <td>7.600000</td>\n      <td>-6.532500</td>\n      <td>0.053880</td>\n      <td>0.055459</td>\n      <td>0.078415</td>\n      <td>0.167930</td>\n      <td>0.276360</td>\n      <td>121.174400</td>\n    </tr>\n    <tr>\n      <th>12383</th>\n      <td>Chance the Rapper</td>\n      <td>Acid Rap</td>\n      <td>Jeff Weiss</td>\n      <td>8.4</td>\n      <td>2013.0</td>\n      <td>2013-05-07</td>\n      <td>NaN</td>\n      <td>Rap</td>\n      <td>0.645571</td>\n      <td>0.502286</td>\n      <td>3.785714</td>\n      <td>-9.930786</td>\n      <td>0.324857</td>\n      <td>0.184071</td>\n      <td>0.000050</td>\n      <td>0.291957</td>\n      <td>0.491571</td>\n      <td>112.826857</td>\n    </tr>\n    <tr>\n      <th>12994</th>\n      <td>Meek Mill</td>\n      <td>Dreamchasers</td>\n      <td>Jordan Sargent</td>\n      <td>7.4</td>\n      <td>2011.0</td>\n      <td>2011-10-27</td>\n      <td>NaN</td>\n      <td>Rap</td>\n      <td>0.628412</td>\n      <td>0.607412</td>\n      <td>4.176471</td>\n      <td>-8.791941</td>\n      <td>0.306424</td>\n      <td>0.100958</td>\n      <td>0.000002</td>\n      <td>0.234424</td>\n      <td>0.399959</td>\n      <td>121.309177</td>\n    </tr>\n    <tr>\n      <th>13140</th>\n      <td>White Mystery</td>\n      <td>White Mystery</td>\n      <td>Jason Crock</td>\n      <td>7.2</td>\n      <td>2010.0</td>\n      <td>2010-03-30</td>\n      <td>NaN</td>\n      <td>Electronic</td>\n      <td>0.340429</td>\n      <td>0.989071</td>\n      <td>5.357143</td>\n      <td>-1.788143</td>\n      <td>0.138593</td>\n      <td>0.227616</td>\n      <td>0.169539</td>\n      <td>0.179929</td>\n      <td>0.104014</td>\n      <td>135.963571</td>\n    </tr>\n    <tr>\n      <th>13713</th>\n      <td>Isaiah Rashad</td>\n      <td>Cilvia Demo</td>\n      <td>Nate Patrin</td>\n      <td>8.2</td>\n      <td>2014.0</td>\n      <td>2014-02-13</td>\n      <td>NaN</td>\n      <td>Rap</td>\n      <td>0.608000</td>\n      <td>0.775214</td>\n      <td>4.500000</td>\n      <td>-5.363500</td>\n      <td>0.254757</td>\n      <td>0.430364</td>\n      <td>0.065954</td>\n      <td>0.308650</td>\n      <td>0.600786</td>\n      <td>110.271071</td>\n    </tr>\n    <tr>\n      <th>13910</th>\n      <td>Miss Derringer</td>\n      <td>Winter Hill</td>\n      <td>Stephen M. Deusner</td>\n      <td>7.7</td>\n      <td>2009.0</td>\n      <td>2009-07-27</td>\n      <td>NaN</td>\n      <td>Folk/Country</td>\n      <td>0.172800</td>\n      <td>0.055102</td>\n      <td>1.800000</td>\n      <td>-34.404000</td>\n      <td>0.044870</td>\n      <td>0.968700</td>\n      <td>0.953500</td>\n      <td>0.106680</td>\n      <td>0.059200</td>\n      <td>88.065300</td>\n    </tr>\n    <tr>\n      <th>14109</th>\n      <td>Young Thug</td>\n      <td>1017 Thug</td>\n      <td>Corban Goble</td>\n      <td>7.4</td>\n      <td>2013.0</td>\n      <td>2013-04-02</td>\n      <td>NaN</td>\n      <td>Rap</td>\n      <td>0.693350</td>\n      <td>0.620000</td>\n      <td>4.850000</td>\n      <td>-8.644700</td>\n      <td>0.299650</td>\n      <td>0.059628</td>\n      <td>0.000000</td>\n      <td>0.343175</td>\n      <td>0.533300</td>\n      <td>124.059000</td>\n    </tr>\n    <tr>\n      <th>14133</th>\n      <td>Wiz Khalifa</td>\n      <td>Kush and Orange Juice</td>\n      <td>Tom Breihan</td>\n      <td>7.2</td>\n      <td>2010.0</td>\n      <td>2010-04-22</td>\n      <td>NaN</td>\n      <td>Rap</td>\n      <td>0.589111</td>\n      <td>0.743222</td>\n      <td>6.055556</td>\n      <td>-5.795333</td>\n      <td>0.236061</td>\n      <td>0.175612</td>\n      <td>0.034636</td>\n      <td>0.310989</td>\n      <td>0.519256</td>\n      <td>101.674056</td>\n    </tr>\n    <tr>\n      <th>14684</th>\n      <td>Lil B</td>\n      <td>God's Father</td>\n      <td>Jayson Greene</td>\n      <td>8.0</td>\n      <td>2012.0</td>\n      <td>2012-03-21</td>\n      <td>NaN</td>\n      <td>Rap</td>\n      <td>0.800000</td>\n      <td>0.393000</td>\n      <td>2.000000</td>\n      <td>-5.936000</td>\n      <td>0.051300</td>\n      <td>0.002590</td>\n      <td>0.923000</td>\n      <td>0.020900</td>\n      <td>0.343000</td>\n      <td>122.005000</td>\n    </tr>\n    <tr>\n      <th>15651</th>\n      <td>Wale</td>\n      <td>The Mixtape About Nothing</td>\n      <td>Jayson Greene</td>\n      <td>8.4</td>\n      <td>2008.0</td>\n      <td>2008-07-29</td>\n      <td>NaN</td>\n      <td>Rap</td>\n      <td>0.654105</td>\n      <td>0.569474</td>\n      <td>5.421053</td>\n      <td>-13.230263</td>\n      <td>0.360832</td>\n      <td>0.295586</td>\n      <td>0.029800</td>\n      <td>0.444737</td>\n      <td>0.652789</td>\n      <td>116.047474</td>\n    </tr>\n    <tr>\n      <th>17614</th>\n      <td>Chance the Rapper</td>\n      <td>Coloring Book</td>\n      <td>kris ex</td>\n      <td>9.1</td>\n      <td>2016.0</td>\n      <td>2016-05-17</td>\n      <td>NaN</td>\n      <td>Rap</td>\n      <td>0.589571</td>\n      <td>0.490357</td>\n      <td>5.071429</td>\n      <td>-8.173857</td>\n      <td>0.257314</td>\n      <td>0.506114</td>\n      <td>0.005360</td>\n      <td>0.166179</td>\n      <td>0.432929</td>\n      <td>119.435429</td>\n    </tr>\n  </tbody>\n</table>\n</div>"
     },
     "execution_count": 18,
     "metadata": {},
     "output_type": "execute_result"
    }
   ],
   "source": [
    "data[pd.isna(data[\"recordlabel\"])]"
   ]
  },
  {
   "cell_type": "markdown",
   "id": "9f4f3fde-f215-4c66-b6a5-773d3f878d78",
   "metadata": {},
   "source": [
    "Some of these can be filled in with a quick search (mostly from Wikipedia)"
   ]
  },
  {
   "cell_type": "code",
   "execution_count": 19,
   "id": "bbf7b9cc-4305-4d97-a6e3-8cd9f6aa96b8",
   "metadata": {},
   "outputs": [],
   "source": [
    "# Manually enter album record labels (compared with\n",
    "# raw data to match any existing names)\n",
    "fill_missing = pd.Series(\n",
    "    data = [\n",
    "        \"Fool's Gold\", # Run the Jewels\n",
    "        \"Vapor\", # 808s and Dark Grapes III\n",
    "        \"101 Distribution\", # Dedication 2\n",
    "        \"Jet Life\", # The Drive In Theatre\n",
    "        \"Espo\", # Animals\n",
    "        \"Cinematic\", # 1999\n",
    "        \"Def Jam\", # Rich Forever\n",
    "        \"LM Dupli-Cation\", # Cervantine\n",
    "        \"Glory Boyz\", # Back From the Dead\n",
    "        \"Epic\", # Drilluminati\n",
    "        \"Self-released\", # Community Service 2!\n",
    "        \"Cash Money\", # Sorry 4 the Wait\n",
    "        \"Grand Hustle\", # Fuck a Mixtape\n",
    "        \"Vice\", # Blue Chips\n",
    "        \"Free Bandz\", # 56 Nights\n",
    "        \"Six Shooter Records\", # Retribution\n",
    "        \"Self-released\", # Acid Rap\n",
    "        \"Maybach\", # Dreamchasers\n",
    "        \"Self-released\", # White Mystery\n",
    "        \"Top Dawg\", # Cilvia Demo\n",
    "        \"Triple X\", # Winter Hill\n",
    "        \"1017\", # 1017 Thug\n",
    "        \"Rostrum\", # Kush and Orange Juice\n",
    "        \"BasedWorld\", # God's Father\n",
    "        \"10.Deep\", # The Mixtape About Nothing\n",
    "        \"Self-released\" # Coloring Book\n",
    "    ],\n",
    "    index=data[pd.isna(data[\"recordlabel\"])].index\n",
    ")"
   ]
  },
  {
   "cell_type": "code",
   "execution_count": 20,
   "id": "fa080420-9845-4c72-92e8-13782aefded2",
   "metadata": {},
   "outputs": [],
   "source": [
    "# Replace with corrected values\n",
    "data.loc[pd.isna(data[\"recordlabel\"]), \"recordlabel\"] = fill_missing"
   ]
  },
  {
   "cell_type": "code",
   "execution_count": 21,
   "id": "9d84a565-8d40-4452-ac58-4e2c9e031864",
   "metadata": {},
   "outputs": [],
   "source": [
    "# Trim extra whitespace\n",
    "data[\"recordlabel\"] = data[\"recordlabel\"].apply(str.strip)"
   ]
  },
  {
   "cell_type": "code",
   "execution_count": 22,
   "id": "c29845c0-0550-406f-910e-3876bdbcd5f1",
   "metadata": {},
   "outputs": [
    {
     "data": {
      "text/plain": "Empty DataFrame\nColumns: [artist, album, reviewauthor, score, releaseyear, reviewdate, recordlabel, genre, danceability, energy, key, loudness, speechiness, acousticness, instrumentalness, liveness, valence, tempo]\nIndex: []",
      "text/html": "<div>\n<style scoped>\n    .dataframe tbody tr th:only-of-type {\n        vertical-align: middle;\n    }\n\n    .dataframe tbody tr th {\n        vertical-align: top;\n    }\n\n    .dataframe thead th {\n        text-align: right;\n    }\n</style>\n<table border=\"1\" class=\"dataframe\">\n  <thead>\n    <tr style=\"text-align: right;\">\n      <th></th>\n      <th>artist</th>\n      <th>album</th>\n      <th>reviewauthor</th>\n      <th>score</th>\n      <th>releaseyear</th>\n      <th>reviewdate</th>\n      <th>recordlabel</th>\n      <th>genre</th>\n      <th>danceability</th>\n      <th>energy</th>\n      <th>key</th>\n      <th>loudness</th>\n      <th>speechiness</th>\n      <th>acousticness</th>\n      <th>instrumentalness</th>\n      <th>liveness</th>\n      <th>valence</th>\n      <th>tempo</th>\n    </tr>\n  </thead>\n  <tbody>\n  </tbody>\n</table>\n</div>"
     },
     "execution_count": 22,
     "metadata": {},
     "output_type": "execute_result"
    }
   ],
   "source": [
    "# Check that the change went through okay\n",
    "data[pd.isna(data[\"recordlabel\"])]"
   ]
  },
  {
   "cell_type": "code",
   "execution_count": 23,
   "id": "e6eefd83-3734-4acf-a557-76b63efe4153",
   "metadata": {},
   "outputs": [],
   "source": [
    "# Standardize \"Maybach Music Group\" and \"Maybach/Warner Bros.\"\" as just \"Maybach\"\n",
    "data.loc[data[\"recordlabel\"] == \"Maybach Music Group\", \"recordlabel\"] = \"Maybach\"\n",
    "data.loc[data[\"recordlabel\"] == \"Maybach/Warner Bros.\", \"recordlabel\"] = \"Maybach\""
   ]
  },
  {
   "cell_type": "code",
   "execution_count": 24,
   "id": "e62ea386-de2a-4466-997b-97cbe7a2548e",
   "metadata": {},
   "outputs": [],
   "source": [
    "# Standardize \"Self\" (only 1 record) and \"none\" as \"Self-released\"\n",
    "data.loc[data[\"recordlabel\"] == \"Self\", \"recordlabel\"] = \"Self-released\"\n",
    "data.loc[data[\"recordlabel\"] == \"none\", \"recordlabel\"] = \"Self-released\""
   ]
  },
  {
   "cell_type": "markdown",
   "id": "0130fd48-d15b-4f0f-98bd-3ad7da7fcaf7",
   "metadata": {},
   "source": [
    "#### Genre"
   ]
  },
  {
   "cell_type": "code",
   "execution_count": 25,
   "id": "94981250-19f8-4126-9ace-c2c393007b0f",
   "metadata": {},
   "outputs": [
    {
     "data": {
      "text/plain": "                      artist  \\\n16              Livity Sound   \n25                   Khanate   \n36                 Bodyguard   \n40     These Arms Are Snakes   \n59                  Ital Tek   \n...                      ...   \n17726       7 Worlds Collide   \n17765             Lieutenant   \n17768        The Focus Group   \n17773              Boardwalk   \n17774            The Wytches   \n\n                                                   album        reviewauthor  \\\n16                                  Livity Sound Remixes       Andrew Gaerig   \n25                                          Things Viral        Chris Dahlen   \n36                                            Silica Gel        Nick Neyland   \n40     Oxeneers or The Lion Sleeps When Its Antelope ...         David Moore   \n59                                          Nebula Dance        Miles Raymer   \n...                                                  ...                 ...   \n17726                                   The Sun Came Out  Stephen M. Deusner   \n17765  If I Kill This Thing We're All Going to Eat fo...       Stuart Berman   \n17768                              The Elektrik Karousel        Nick Neyland   \n17773                                          Boardwalk        Harley Brown   \n17774                               Annabel Dream Reader        Jason Heller   \n\n       score  releaseyear  reviewdate    recordlabel genre  danceability  \\\n16       7.4       2014.0  2014-11-06   Livity Sound   NaN      0.680917   \n25       8.2       2003.0  2004-01-07  Southern Lord   NaN      0.541538   \n36       5.2       2012.0  2012-03-01  Self-released   NaN      0.426167   \n40       7.6       2004.0  2004-09-21      Jade Tree   NaN      0.287455   \n59       7.8       2012.0  2012-11-14      Planet Mu   NaN      0.565083   \n...      ...          ...         ...            ...   ...           ...   \n17726    6.7       2009.0  2009-09-28       Columbia   NaN      0.533450   \n17765    5.8       2015.0  2015-03-12     Dine Alone   NaN      0.488556   \n17768    7.0       2013.0  2013-05-13      Ghost Box   NaN      0.383740   \n17773    4.8       2013.0  2013-10-24   Stones Throw   NaN      0.663923   \n17774    5.8       2014.0  2014-08-27       Partisan   NaN      0.330154   \n\n         energy       key   loudness  speechiness  acousticness  \\\n16     0.891750  3.500000 -10.333667     0.072600      0.023079   \n25     0.607846  4.846154  -6.925923     0.065738      0.235023   \n36     0.719833  5.166667  -4.573333     0.065767      0.151660   \n40     0.737636  5.272727  -8.190545     0.099182      0.087924   \n59     0.791417  6.583333  -7.490583     0.056983      0.087783   \n...         ...       ...        ...          ...           ...   \n17726  0.545930  5.550000 -10.211750     0.037580      0.303893   \n17765  0.664111  3.222222  -6.623778     0.030933      0.148089   \n17768  0.471450  5.650000 -14.653850     0.072725      0.752810   \n17773  0.454615  5.923077  -9.499923     0.102477      0.573231   \n17774  0.672154  6.000000  -6.135231     0.047123      0.056600   \n\n       instrumentalness  liveness   valence       tempo  \n16             0.830750  0.146967  0.295017  126.158667  \n25             0.068799  0.209962  0.640846  126.198461  \n36             0.157598  0.186192  0.312933  122.995917  \n40             0.446919  0.203755  0.365364  134.117182  \n59             0.782833  0.125592  0.432833  132.239250  \n...                 ...       ...       ...         ...  \n17726          0.089671  0.156695  0.488755  125.262200  \n17765          0.156008  0.101167  0.390111  117.924667  \n17768          0.632057  0.276365  0.379990  112.409950  \n17773          0.515200  0.231731  0.455385  120.301231  \n17774          0.065027  0.194108  0.335554  138.846077  \n\n[1289 rows x 18 columns]",
      "text/html": "<div>\n<style scoped>\n    .dataframe tbody tr th:only-of-type {\n        vertical-align: middle;\n    }\n\n    .dataframe tbody tr th {\n        vertical-align: top;\n    }\n\n    .dataframe thead th {\n        text-align: right;\n    }\n</style>\n<table border=\"1\" class=\"dataframe\">\n  <thead>\n    <tr style=\"text-align: right;\">\n      <th></th>\n      <th>artist</th>\n      <th>album</th>\n      <th>reviewauthor</th>\n      <th>score</th>\n      <th>releaseyear</th>\n      <th>reviewdate</th>\n      <th>recordlabel</th>\n      <th>genre</th>\n      <th>danceability</th>\n      <th>energy</th>\n      <th>key</th>\n      <th>loudness</th>\n      <th>speechiness</th>\n      <th>acousticness</th>\n      <th>instrumentalness</th>\n      <th>liveness</th>\n      <th>valence</th>\n      <th>tempo</th>\n    </tr>\n  </thead>\n  <tbody>\n    <tr>\n      <th>16</th>\n      <td>Livity Sound</td>\n      <td>Livity Sound Remixes</td>\n      <td>Andrew Gaerig</td>\n      <td>7.4</td>\n      <td>2014.0</td>\n      <td>2014-11-06</td>\n      <td>Livity Sound</td>\n      <td>NaN</td>\n      <td>0.680917</td>\n      <td>0.891750</td>\n      <td>3.500000</td>\n      <td>-10.333667</td>\n      <td>0.072600</td>\n      <td>0.023079</td>\n      <td>0.830750</td>\n      <td>0.146967</td>\n      <td>0.295017</td>\n      <td>126.158667</td>\n    </tr>\n    <tr>\n      <th>25</th>\n      <td>Khanate</td>\n      <td>Things Viral</td>\n      <td>Chris Dahlen</td>\n      <td>8.2</td>\n      <td>2003.0</td>\n      <td>2004-01-07</td>\n      <td>Southern Lord</td>\n      <td>NaN</td>\n      <td>0.541538</td>\n      <td>0.607846</td>\n      <td>4.846154</td>\n      <td>-6.925923</td>\n      <td>0.065738</td>\n      <td>0.235023</td>\n      <td>0.068799</td>\n      <td>0.209962</td>\n      <td>0.640846</td>\n      <td>126.198461</td>\n    </tr>\n    <tr>\n      <th>36</th>\n      <td>Bodyguard</td>\n      <td>Silica Gel</td>\n      <td>Nick Neyland</td>\n      <td>5.2</td>\n      <td>2012.0</td>\n      <td>2012-03-01</td>\n      <td>Self-released</td>\n      <td>NaN</td>\n      <td>0.426167</td>\n      <td>0.719833</td>\n      <td>5.166667</td>\n      <td>-4.573333</td>\n      <td>0.065767</td>\n      <td>0.151660</td>\n      <td>0.157598</td>\n      <td>0.186192</td>\n      <td>0.312933</td>\n      <td>122.995917</td>\n    </tr>\n    <tr>\n      <th>40</th>\n      <td>These Arms Are Snakes</td>\n      <td>Oxeneers or The Lion Sleeps When Its Antelope ...</td>\n      <td>David Moore</td>\n      <td>7.6</td>\n      <td>2004.0</td>\n      <td>2004-09-21</td>\n      <td>Jade Tree</td>\n      <td>NaN</td>\n      <td>0.287455</td>\n      <td>0.737636</td>\n      <td>5.272727</td>\n      <td>-8.190545</td>\n      <td>0.099182</td>\n      <td>0.087924</td>\n      <td>0.446919</td>\n      <td>0.203755</td>\n      <td>0.365364</td>\n      <td>134.117182</td>\n    </tr>\n    <tr>\n      <th>59</th>\n      <td>Ital Tek</td>\n      <td>Nebula Dance</td>\n      <td>Miles Raymer</td>\n      <td>7.8</td>\n      <td>2012.0</td>\n      <td>2012-11-14</td>\n      <td>Planet Mu</td>\n      <td>NaN</td>\n      <td>0.565083</td>\n      <td>0.791417</td>\n      <td>6.583333</td>\n      <td>-7.490583</td>\n      <td>0.056983</td>\n      <td>0.087783</td>\n      <td>0.782833</td>\n      <td>0.125592</td>\n      <td>0.432833</td>\n      <td>132.239250</td>\n    </tr>\n    <tr>\n      <th>...</th>\n      <td>...</td>\n      <td>...</td>\n      <td>...</td>\n      <td>...</td>\n      <td>...</td>\n      <td>...</td>\n      <td>...</td>\n      <td>...</td>\n      <td>...</td>\n      <td>...</td>\n      <td>...</td>\n      <td>...</td>\n      <td>...</td>\n      <td>...</td>\n      <td>...</td>\n      <td>...</td>\n      <td>...</td>\n      <td>...</td>\n    </tr>\n    <tr>\n      <th>17726</th>\n      <td>7 Worlds Collide</td>\n      <td>The Sun Came Out</td>\n      <td>Stephen M. Deusner</td>\n      <td>6.7</td>\n      <td>2009.0</td>\n      <td>2009-09-28</td>\n      <td>Columbia</td>\n      <td>NaN</td>\n      <td>0.533450</td>\n      <td>0.545930</td>\n      <td>5.550000</td>\n      <td>-10.211750</td>\n      <td>0.037580</td>\n      <td>0.303893</td>\n      <td>0.089671</td>\n      <td>0.156695</td>\n      <td>0.488755</td>\n      <td>125.262200</td>\n    </tr>\n    <tr>\n      <th>17765</th>\n      <td>Lieutenant</td>\n      <td>If I Kill This Thing We're All Going to Eat fo...</td>\n      <td>Stuart Berman</td>\n      <td>5.8</td>\n      <td>2015.0</td>\n      <td>2015-03-12</td>\n      <td>Dine Alone</td>\n      <td>NaN</td>\n      <td>0.488556</td>\n      <td>0.664111</td>\n      <td>3.222222</td>\n      <td>-6.623778</td>\n      <td>0.030933</td>\n      <td>0.148089</td>\n      <td>0.156008</td>\n      <td>0.101167</td>\n      <td>0.390111</td>\n      <td>117.924667</td>\n    </tr>\n    <tr>\n      <th>17768</th>\n      <td>The Focus Group</td>\n      <td>The Elektrik Karousel</td>\n      <td>Nick Neyland</td>\n      <td>7.0</td>\n      <td>2013.0</td>\n      <td>2013-05-13</td>\n      <td>Ghost Box</td>\n      <td>NaN</td>\n      <td>0.383740</td>\n      <td>0.471450</td>\n      <td>5.650000</td>\n      <td>-14.653850</td>\n      <td>0.072725</td>\n      <td>0.752810</td>\n      <td>0.632057</td>\n      <td>0.276365</td>\n      <td>0.379990</td>\n      <td>112.409950</td>\n    </tr>\n    <tr>\n      <th>17773</th>\n      <td>Boardwalk</td>\n      <td>Boardwalk</td>\n      <td>Harley Brown</td>\n      <td>4.8</td>\n      <td>2013.0</td>\n      <td>2013-10-24</td>\n      <td>Stones Throw</td>\n      <td>NaN</td>\n      <td>0.663923</td>\n      <td>0.454615</td>\n      <td>5.923077</td>\n      <td>-9.499923</td>\n      <td>0.102477</td>\n      <td>0.573231</td>\n      <td>0.515200</td>\n      <td>0.231731</td>\n      <td>0.455385</td>\n      <td>120.301231</td>\n    </tr>\n    <tr>\n      <th>17774</th>\n      <td>The Wytches</td>\n      <td>Annabel Dream Reader</td>\n      <td>Jason Heller</td>\n      <td>5.8</td>\n      <td>2014.0</td>\n      <td>2014-08-27</td>\n      <td>Partisan</td>\n      <td>NaN</td>\n      <td>0.330154</td>\n      <td>0.672154</td>\n      <td>6.000000</td>\n      <td>-6.135231</td>\n      <td>0.047123</td>\n      <td>0.056600</td>\n      <td>0.065027</td>\n      <td>0.194108</td>\n      <td>0.335554</td>\n      <td>138.846077</td>\n    </tr>\n  </tbody>\n</table>\n<p>1289 rows × 18 columns</p>\n</div>"
     },
     "execution_count": 25,
     "metadata": {},
     "output_type": "execute_result"
    }
   ],
   "source": [
    "data[pd.isna(data[\"genre\"])]"
   ]
  },
  {
   "cell_type": "code",
   "execution_count": 26,
   "id": "c46fe1b1-9f3d-4a64-b6db-864983a846af",
   "metadata": {},
   "outputs": [],
   "source": [
    "# Percentage of missing genres for each artist\n",
    "# For artists with at least one recorded genre, we\n",
    "#   could fill in all other albums with that genre\n",
    "missing_genres = (data.groupby(\"artist\")\n",
    "     .agg({\"genre\": lambda x: np.mean(pd.isna(x))})\n",
    "     .sort_values(by=\"genre\", ascending=False))"
   ]
  },
  {
   "cell_type": "code",
   "execution_count": 27,
   "id": "b5c447ef-2593-499c-9f46-6559d17aa380",
   "metadata": {},
   "outputs": [
    {
     "data": {
      "text/plain": "(1102, 1)"
     },
     "execution_count": 27,
     "metadata": {},
     "output_type": "execute_result"
    }
   ],
   "source": [
    "missing_genres[missing_genres[\"genre\"] > 0].shape"
   ]
  },
  {
   "cell_type": "code",
   "execution_count": 28,
   "id": "424cd2c1-21fa-4ddd-baf4-1283cb6cfc0c",
   "metadata": {},
   "outputs": [
    {
     "data": {
      "text/plain": "                        genre\nartist                       \nSonic Liberation Front    1.0\nLatyrx                    1.0\nPerfect Pussy             1.0\nJo Johnson                1.0\nPerc                      1.0",
      "text/html": "<div>\n<style scoped>\n    .dataframe tbody tr th:only-of-type {\n        vertical-align: middle;\n    }\n\n    .dataframe tbody tr th {\n        vertical-align: top;\n    }\n\n    .dataframe thead th {\n        text-align: right;\n    }\n</style>\n<table border=\"1\" class=\"dataframe\">\n  <thead>\n    <tr style=\"text-align: right;\">\n      <th></th>\n      <th>genre</th>\n    </tr>\n    <tr>\n      <th>artist</th>\n      <th></th>\n    </tr>\n  </thead>\n  <tbody>\n    <tr>\n      <th>Sonic Liberation Front</th>\n      <td>1.0</td>\n    </tr>\n    <tr>\n      <th>Latyrx</th>\n      <td>1.0</td>\n    </tr>\n    <tr>\n      <th>Perfect Pussy</th>\n      <td>1.0</td>\n    </tr>\n    <tr>\n      <th>Jo Johnson</th>\n      <td>1.0</td>\n    </tr>\n    <tr>\n      <th>Perc</th>\n      <td>1.0</td>\n    </tr>\n  </tbody>\n</table>\n</div>"
     },
     "execution_count": 28,
     "metadata": {},
     "output_type": "execute_result"
    }
   ],
   "source": [
    "missing_genres.head()"
   ]
  },
  {
   "cell_type": "code",
   "execution_count": 29,
   "id": "e960a61d-96da-4427-9365-4ed84ff12ec6",
   "metadata": {},
   "outputs": [
    {
     "data": {
      "text/plain": "                         genre\nartist                        \nThe Angels of Light   0.750000\nProdigy               0.666667\nRichard Dawson        0.666667\nBlack Twig Pickers    0.500000\nHave a Nice Life      0.500000\nMetal Fingers         0.500000\nCough                 0.500000\nScarlett Johansson    0.500000\nSlaughter Beach, Dog  0.500000\nGhost                 0.333333",
      "text/html": "<div>\n<style scoped>\n    .dataframe tbody tr th:only-of-type {\n        vertical-align: middle;\n    }\n\n    .dataframe tbody tr th {\n        vertical-align: top;\n    }\n\n    .dataframe thead th {\n        text-align: right;\n    }\n</style>\n<table border=\"1\" class=\"dataframe\">\n  <thead>\n    <tr style=\"text-align: right;\">\n      <th></th>\n      <th>genre</th>\n    </tr>\n    <tr>\n      <th>artist</th>\n      <th></th>\n    </tr>\n  </thead>\n  <tbody>\n    <tr>\n      <th>The Angels of Light</th>\n      <td>0.750000</td>\n    </tr>\n    <tr>\n      <th>Prodigy</th>\n      <td>0.666667</td>\n    </tr>\n    <tr>\n      <th>Richard Dawson</th>\n      <td>0.666667</td>\n    </tr>\n    <tr>\n      <th>Black Twig Pickers</th>\n      <td>0.500000</td>\n    </tr>\n    <tr>\n      <th>Have a Nice Life</th>\n      <td>0.500000</td>\n    </tr>\n    <tr>\n      <th>Metal Fingers</th>\n      <td>0.500000</td>\n    </tr>\n    <tr>\n      <th>Cough</th>\n      <td>0.500000</td>\n    </tr>\n    <tr>\n      <th>Scarlett Johansson</th>\n      <td>0.500000</td>\n    </tr>\n    <tr>\n      <th>Slaughter Beach, Dog</th>\n      <td>0.500000</td>\n    </tr>\n    <tr>\n      <th>Ghost</th>\n      <td>0.333333</td>\n    </tr>\n  </tbody>\n</table>\n</div>"
     },
     "execution_count": 29,
     "metadata": {},
     "output_type": "execute_result"
    }
   ],
   "source": [
    "# Which artists could we actually impute for?\n",
    "missing_genres[(missing_genres[\"genre\"] > 0) & (missing_genres[\"genre\"] < 1)]"
   ]
  },
  {
   "cell_type": "markdown",
   "id": "35187e1b-3dc8-41af-a39a-f912bfe46251",
   "metadata": {},
   "source": [
    "Okay, that's not very many. Instead, we'll just create a \"Missing\" category to capture all of these. Some techniques, like decision trees, can still incorporate this information then."
   ]
  },
  {
   "cell_type": "code",
   "execution_count": 30,
   "id": "1ba6c203-1eab-404a-99e8-cc1015ebd681",
   "metadata": {},
   "outputs": [],
   "source": [
    "data[\"genre\"] = data[\"genre\"].fillna(\"Missing\")"
   ]
  },
  {
   "cell_type": "code",
   "execution_count": 31,
   "id": "e2d54e20-863f-465a-8499-fd80d62a9680",
   "metadata": {},
   "outputs": [
    {
     "data": {
      "text/plain": "Empty DataFrame\nColumns: [artist, album, reviewauthor, score, releaseyear, reviewdate, recordlabel, genre, danceability, energy, key, loudness, speechiness, acousticness, instrumentalness, liveness, valence, tempo]\nIndex: []",
      "text/html": "<div>\n<style scoped>\n    .dataframe tbody tr th:only-of-type {\n        vertical-align: middle;\n    }\n\n    .dataframe tbody tr th {\n        vertical-align: top;\n    }\n\n    .dataframe thead th {\n        text-align: right;\n    }\n</style>\n<table border=\"1\" class=\"dataframe\">\n  <thead>\n    <tr style=\"text-align: right;\">\n      <th></th>\n      <th>artist</th>\n      <th>album</th>\n      <th>reviewauthor</th>\n      <th>score</th>\n      <th>releaseyear</th>\n      <th>reviewdate</th>\n      <th>recordlabel</th>\n      <th>genre</th>\n      <th>danceability</th>\n      <th>energy</th>\n      <th>key</th>\n      <th>loudness</th>\n      <th>speechiness</th>\n      <th>acousticness</th>\n      <th>instrumentalness</th>\n      <th>liveness</th>\n      <th>valence</th>\n      <th>tempo</th>\n    </tr>\n  </thead>\n  <tbody>\n  </tbody>\n</table>\n</div>"
     },
     "execution_count": 31,
     "metadata": {},
     "output_type": "execute_result"
    }
   ],
   "source": [
    "# Check that the change went through okay\n",
    "data[pd.isna(data[\"genre\"])]"
   ]
  },
  {
   "cell_type": "markdown",
   "id": "d8fe731a-ce19-456d-9109-75edff467a9b",
   "metadata": {},
   "source": [
    "## Preview after changes"
   ]
  },
  {
   "cell_type": "code",
   "execution_count": 32,
   "id": "b2cbfb61-ad6d-42aa-8ddb-0fb8a0f1ce88",
   "metadata": {},
   "outputs": [
    {
     "data": {
      "text/plain": "               artist                              album        reviewauthor  \\\n0            Studio 1                           Studio 1      Andy Battaglia   \n1          John Fahey  The Great Santa Barbara Oil Slick     Mark Richardson   \n2      Reigning Sound                    Too Much Guitar  Stephen M. Deusner   \n3      The Red Thread                     After the Last        Chris Dahlen   \n4          Mac Miller                           Swimming      Evan Rytlewski   \n...               ...                                ...                 ...   \n18398       DJ Khaled                    Father of Asahd       Rawiya Kameir   \n18399        Interpol                     A Fine Mess EP       Brian Josephs   \n18400  Injury Reserve                     Injury Reserve      Sheldon Pearce   \n18401       Operators                       Radiant Dawn       Stuart Berman   \n18402        Slowthai        Nothing Great About Britain         Jazz Monroe   \n\n       score  releaseyear  reviewdate    recordlabel         genre  \\\n0        8.5       2009.0  2009-02-18         Studio    Electronic   \n1        8.2       2005.0  2005-02-13          Water  Folk/Country   \n2        8.3       2004.0  2004-08-19     In the Red    Electronic   \n3        7.3       2003.0  2003-07-17         Badman          Rock   \n4        7.5       2018.0  2018-08-03   Warner Bros.           Rap   \n...      ...          ...         ...            ...           ...   \n18398    5.4       2019.0  2019-05-22  Self-released           Rap   \n18399    5.6       2019.0  2019-05-22  Self-released          Rock   \n18400    6.8       2019.0  2019-05-22  Self-released           Rap   \n18401    7.7       2019.0  2019-05-22  Self-released          Rock   \n18402    8.4       2019.0  2019-05-21  Self-released           Rap   \n\n       danceability    energy       key   loudness  speechiness  acousticness  \\\n0          0.511917  0.499667  5.250000  -5.626583     0.031983      0.724917   \n1          0.369765  0.325412  4.470588 -19.153824     0.148624      0.647053   \n2          0.253943  0.912857  4.428571  -1.089500     0.055500      0.000253   \n3          0.425400  0.433474  5.700000 -12.871000     0.028260      0.310325   \n4          0.624846  0.438154  4.153846  -9.456077     0.170246      0.652462   \n...             ...       ...       ...        ...          ...           ...   \n18398      0.530733  0.763000  5.600000  -4.037933     0.260833      0.138597   \n18399      0.481000  0.938800  2.600000  -1.761400     0.054260      0.000563   \n18400      0.559615  0.709538  5.769231  -6.205846     0.346485      0.182031   \n18401      0.575929  0.693429  5.071429  -9.977714     0.058193      0.171626   \n18402      0.685000  0.707176  4.470588  -6.512118     0.335035      0.203241   \n\n       instrumentalness  liveness   valence       tempo  \n0              0.024493  0.165367  0.555083  101.395167  \n1              0.559133  0.527782  0.179465  107.622647  \n2              0.751214  0.199071  0.552786  133.895500  \n3              0.224137  0.125150  0.451400  104.354200  \n4              0.012819  0.121131  0.281138  122.121308  \n...                 ...       ...       ...         ...  \n18398          0.000002  0.286033  0.465000  109.981200  \n18399          0.699800  0.202380  0.522800  124.184800  \n18400          0.000229  0.259154  0.559154  106.885769  \n18401          0.192718  0.260207  0.417579  124.177214  \n18402          0.000007  0.199035  0.486588  121.439000  \n\n[18403 rows x 18 columns]",
      "text/html": "<div>\n<style scoped>\n    .dataframe tbody tr th:only-of-type {\n        vertical-align: middle;\n    }\n\n    .dataframe tbody tr th {\n        vertical-align: top;\n    }\n\n    .dataframe thead th {\n        text-align: right;\n    }\n</style>\n<table border=\"1\" class=\"dataframe\">\n  <thead>\n    <tr style=\"text-align: right;\">\n      <th></th>\n      <th>artist</th>\n      <th>album</th>\n      <th>reviewauthor</th>\n      <th>score</th>\n      <th>releaseyear</th>\n      <th>reviewdate</th>\n      <th>recordlabel</th>\n      <th>genre</th>\n      <th>danceability</th>\n      <th>energy</th>\n      <th>key</th>\n      <th>loudness</th>\n      <th>speechiness</th>\n      <th>acousticness</th>\n      <th>instrumentalness</th>\n      <th>liveness</th>\n      <th>valence</th>\n      <th>tempo</th>\n    </tr>\n  </thead>\n  <tbody>\n    <tr>\n      <th>0</th>\n      <td>Studio 1</td>\n      <td>Studio 1</td>\n      <td>Andy Battaglia</td>\n      <td>8.5</td>\n      <td>2009.0</td>\n      <td>2009-02-18</td>\n      <td>Studio</td>\n      <td>Electronic</td>\n      <td>0.511917</td>\n      <td>0.499667</td>\n      <td>5.250000</td>\n      <td>-5.626583</td>\n      <td>0.031983</td>\n      <td>0.724917</td>\n      <td>0.024493</td>\n      <td>0.165367</td>\n      <td>0.555083</td>\n      <td>101.395167</td>\n    </tr>\n    <tr>\n      <th>1</th>\n      <td>John Fahey</td>\n      <td>The Great Santa Barbara Oil Slick</td>\n      <td>Mark Richardson</td>\n      <td>8.2</td>\n      <td>2005.0</td>\n      <td>2005-02-13</td>\n      <td>Water</td>\n      <td>Folk/Country</td>\n      <td>0.369765</td>\n      <td>0.325412</td>\n      <td>4.470588</td>\n      <td>-19.153824</td>\n      <td>0.148624</td>\n      <td>0.647053</td>\n      <td>0.559133</td>\n      <td>0.527782</td>\n      <td>0.179465</td>\n      <td>107.622647</td>\n    </tr>\n    <tr>\n      <th>2</th>\n      <td>Reigning Sound</td>\n      <td>Too Much Guitar</td>\n      <td>Stephen M. Deusner</td>\n      <td>8.3</td>\n      <td>2004.0</td>\n      <td>2004-08-19</td>\n      <td>In the Red</td>\n      <td>Electronic</td>\n      <td>0.253943</td>\n      <td>0.912857</td>\n      <td>4.428571</td>\n      <td>-1.089500</td>\n      <td>0.055500</td>\n      <td>0.000253</td>\n      <td>0.751214</td>\n      <td>0.199071</td>\n      <td>0.552786</td>\n      <td>133.895500</td>\n    </tr>\n    <tr>\n      <th>3</th>\n      <td>The Red Thread</td>\n      <td>After the Last</td>\n      <td>Chris Dahlen</td>\n      <td>7.3</td>\n      <td>2003.0</td>\n      <td>2003-07-17</td>\n      <td>Badman</td>\n      <td>Rock</td>\n      <td>0.425400</td>\n      <td>0.433474</td>\n      <td>5.700000</td>\n      <td>-12.871000</td>\n      <td>0.028260</td>\n      <td>0.310325</td>\n      <td>0.224137</td>\n      <td>0.125150</td>\n      <td>0.451400</td>\n      <td>104.354200</td>\n    </tr>\n    <tr>\n      <th>4</th>\n      <td>Mac Miller</td>\n      <td>Swimming</td>\n      <td>Evan Rytlewski</td>\n      <td>7.5</td>\n      <td>2018.0</td>\n      <td>2018-08-03</td>\n      <td>Warner Bros.</td>\n      <td>Rap</td>\n      <td>0.624846</td>\n      <td>0.438154</td>\n      <td>4.153846</td>\n      <td>-9.456077</td>\n      <td>0.170246</td>\n      <td>0.652462</td>\n      <td>0.012819</td>\n      <td>0.121131</td>\n      <td>0.281138</td>\n      <td>122.121308</td>\n    </tr>\n    <tr>\n      <th>...</th>\n      <td>...</td>\n      <td>...</td>\n      <td>...</td>\n      <td>...</td>\n      <td>...</td>\n      <td>...</td>\n      <td>...</td>\n      <td>...</td>\n      <td>...</td>\n      <td>...</td>\n      <td>...</td>\n      <td>...</td>\n      <td>...</td>\n      <td>...</td>\n      <td>...</td>\n      <td>...</td>\n      <td>...</td>\n      <td>...</td>\n    </tr>\n    <tr>\n      <th>18398</th>\n      <td>DJ Khaled</td>\n      <td>Father of Asahd</td>\n      <td>Rawiya Kameir</td>\n      <td>5.4</td>\n      <td>2019.0</td>\n      <td>2019-05-22</td>\n      <td>Self-released</td>\n      <td>Rap</td>\n      <td>0.530733</td>\n      <td>0.763000</td>\n      <td>5.600000</td>\n      <td>-4.037933</td>\n      <td>0.260833</td>\n      <td>0.138597</td>\n      <td>0.000002</td>\n      <td>0.286033</td>\n      <td>0.465000</td>\n      <td>109.981200</td>\n    </tr>\n    <tr>\n      <th>18399</th>\n      <td>Interpol</td>\n      <td>A Fine Mess EP</td>\n      <td>Brian Josephs</td>\n      <td>5.6</td>\n      <td>2019.0</td>\n      <td>2019-05-22</td>\n      <td>Self-released</td>\n      <td>Rock</td>\n      <td>0.481000</td>\n      <td>0.938800</td>\n      <td>2.600000</td>\n      <td>-1.761400</td>\n      <td>0.054260</td>\n      <td>0.000563</td>\n      <td>0.699800</td>\n      <td>0.202380</td>\n      <td>0.522800</td>\n      <td>124.184800</td>\n    </tr>\n    <tr>\n      <th>18400</th>\n      <td>Injury Reserve</td>\n      <td>Injury Reserve</td>\n      <td>Sheldon Pearce</td>\n      <td>6.8</td>\n      <td>2019.0</td>\n      <td>2019-05-22</td>\n      <td>Self-released</td>\n      <td>Rap</td>\n      <td>0.559615</td>\n      <td>0.709538</td>\n      <td>5.769231</td>\n      <td>-6.205846</td>\n      <td>0.346485</td>\n      <td>0.182031</td>\n      <td>0.000229</td>\n      <td>0.259154</td>\n      <td>0.559154</td>\n      <td>106.885769</td>\n    </tr>\n    <tr>\n      <th>18401</th>\n      <td>Operators</td>\n      <td>Radiant Dawn</td>\n      <td>Stuart Berman</td>\n      <td>7.7</td>\n      <td>2019.0</td>\n      <td>2019-05-22</td>\n      <td>Self-released</td>\n      <td>Rock</td>\n      <td>0.575929</td>\n      <td>0.693429</td>\n      <td>5.071429</td>\n      <td>-9.977714</td>\n      <td>0.058193</td>\n      <td>0.171626</td>\n      <td>0.192718</td>\n      <td>0.260207</td>\n      <td>0.417579</td>\n      <td>124.177214</td>\n    </tr>\n    <tr>\n      <th>18402</th>\n      <td>Slowthai</td>\n      <td>Nothing Great About Britain</td>\n      <td>Jazz Monroe</td>\n      <td>8.4</td>\n      <td>2019.0</td>\n      <td>2019-05-21</td>\n      <td>Self-released</td>\n      <td>Rap</td>\n      <td>0.685000</td>\n      <td>0.707176</td>\n      <td>4.470588</td>\n      <td>-6.512118</td>\n      <td>0.335035</td>\n      <td>0.203241</td>\n      <td>0.000007</td>\n      <td>0.199035</td>\n      <td>0.486588</td>\n      <td>121.439000</td>\n    </tr>\n  </tbody>\n</table>\n<p>18403 rows × 18 columns</p>\n</div>"
     },
     "execution_count": 32,
     "metadata": {},
     "output_type": "execute_result"
    }
   ],
   "source": [
    "data"
   ]
  },
  {
   "cell_type": "markdown",
   "id": "2a7d45d6-d653-4c63-92dd-44a987a4ee91",
   "metadata": {},
   "source": [
    "## Export cleaned dataset"
   ]
  },
  {
   "cell_type": "code",
   "execution_count": 33,
   "id": "fc0906d8-ebf0-4d4a-bb24-aff287ea53c5",
   "metadata": {},
   "outputs": [],
   "source": [
    "data.to_csv(OUT_PATH, index=False)"
   ]
  },
  {
   "cell_type": "code",
   "execution_count": null,
   "id": "ab1748fa-25f4-41c5-8b7b-6863fafec495",
   "metadata": {},
   "outputs": [],
   "source": []
  }
 ],
 "metadata": {
  "kernelspec": {
   "display_name": "venv",
   "language": "python",
   "name": "venv"
  },
  "language_info": {
   "codemirror_mode": {
    "name": "ipython",
    "version": 3
   },
   "file_extension": ".py",
   "mimetype": "text/x-python",
   "name": "python",
   "nbconvert_exporter": "python",
   "pygments_lexer": "ipython3",
   "version": "3.8.2"
  }
 },
 "nbformat": 4,
 "nbformat_minor": 5
}